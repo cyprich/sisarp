{
 "cells": [
  {
   "attachments": {},
   "cell_type": "markdown",
   "metadata": {
    "dotnet_interactive": {
     "language": "csharp"
    },
    "polyglot_notebook": {
     "kernelName": "csharp"
    }
   },
   "source": [
    "# CancellationToken"
   ]
  },
  {
   "cell_type": "markdown",
   "metadata": {},
   "source": [
    "## CancellationTokenSource\n",
    "Pozrite si nasledujúce kódy na `CancellationTokenSource` (https://learn.microsoft.com/en-us/dotnet/api/system.threading.cancellationtokensource):"
   ]
  },
  {
   "cell_type": "markdown",
   "metadata": {},
   "source": [
    "### Metóda Cancel()"
   ]
  },
  {
   "cell_type": "code",
   "execution_count": 24,
   "metadata": {
    "dotnet_interactive": {
     "language": "csharp"
    },
    "polyglot_notebook": {
     "kernelName": "csharp"
    }
   },
   "outputs": [],
   "source": [
    "using System.Threading;\n",
    "\n",
    "public static async Task DoWorkAsync(CancellationToken token)\n",
    "{\n",
    "    for (int i = 0; i < 10; i++)\n",
    "    {\n",
    "        token.ThrowIfCancellationRequested(); // Vyhodí výnimku OperationCanceledException, ak bol token zrušený\n",
    "\n",
    "        Console.WriteLine($\"Beží asynchrónna úloha... {i + 1}\");\n",
    "        await Task.Delay(1000); // Simulácia asynchrónneho čakania 1000 ms\n",
    "    }\n",
    "}\n",
    "\n",
    "CancellationTokenSource cts = new CancellationTokenSource();\n",
    "Task task = DoWorkAsync(cts.Token);\n",
    "\n",
    "// Zrušenie po 3 sekundách\n",
    "await Task.Delay(3000);\n",
    "cts.Cancel();\n",
    "\n",
    "try\n",
    "{\n",
    "    await task;\n",
    "}\n",
    "catch (OperationCanceledException)\n",
    "{\n",
    "    Console.WriteLine(\"Asynchrónna úloha bola zrušená.\");\n",
    "}\n"
   ]
  },
  {
   "cell_type": "markdown",
   "metadata": {},
   "source": [
    "### Metóda CancelAfter()"
   ]
  },
  {
   "cell_type": "code",
   "execution_count": null,
   "metadata": {
    "polyglot_notebook": {
     "kernelName": "csharp"
    }
   },
   "outputs": [],
   "source": [
    "using System.Threading;\n",
    "\n",
    "CancellationTokenSource cts = new CancellationTokenSource();\n",
    "\n",
    "// Nastavenie časového limitu 2 sekundy\n",
    "cts.CancelAfter(TimeSpan.FromSeconds(2));\n",
    "\n",
    "try\n",
    "{\n",
    "    await Task.Delay(5000, cts.Token); // Úloha čaká 5 sekúnd, ale token sa zruší po 2 sekundách\n",
    "}\n",
    "catch (OperationCanceledException)\n",
    "{\n",
    "    Console.WriteLine(\"Úloha bola zrušená z dôvodu časového limitu.\");\n",
    "}"
   ]
  },
  {
   "cell_type": "markdown",
   "metadata": {},
   "source": [
    "Napíšte asynchrónnu verziu tejto metódy, ktorá bude vracať reťazec `\"Ahoj, async svet!\"`:"
   ]
  },
  {
   "cell_type": "code",
   "execution_count": null,
   "metadata": {
    "polyglot_notebook": {
     "kernelName": "csharp"
    }
   },
   "outputs": [],
   "source": [
    "using System;\n",
    "using System.IO;\n",
    "using System.Net.Http;\n",
    "using System.Threading;\n",
    "\n",
    "public async Task DownloadFileAsync(string url, string filePath, CancellationToken token)\n",
    "{\n",
    "    HttpClient _httpClient = new();\n",
    "    using HttpResponseMessage response = await _httpClient.GetAsync(url, HttpCompletionOption.ResponseHeadersRead, token);\n",
    "    response.EnsureSuccessStatusCode();\n",
    "\n",
    "    using var fileStream = new FileStream(filePath, FileMode.Create, FileAccess.Write, FileShare.None);\n",
    "    using var httpStream = await response.Content.ReadAsStreamAsync(token);\n",
    "\n",
    "    byte[] buffer = new byte[8192];\n",
    "    int bytesRead;\n",
    "    while ((bytesRead = await httpStream.ReadAsync(buffer, 0, buffer.Length, token)) > 0)\n",
    "    {\n",
    "        await fileStream.WriteAsync(buffer, 0, bytesRead, token);\n",
    "    }\n",
    "\n",
    "    Console.WriteLine(\"Súbor úspešne stiahnutý.\");\n",
    "}\n",
    "\n",
    "CancellationTokenSource downloadFileCancellationTokenSource = new();\n",
    "//downloadFileCancellationTokenSource.CancelAfter(5000);\n",
    "\n",
    "//await DownloadFileAsync(\"https://releases.ubuntu.com/24.04.1/ubuntu-24.04.1-desktop-amd64.iso\", \"ubuntu-24.04.1-desktop-amd64.iso\", downloadFileCancellationTokenSource.Token);"
   ]
  },
  {
   "cell_type": "markdown",
   "metadata": {},
   "source": [
    "## Úloha 7"
   ]
  },
  {
   "cell_type": "markdown",
   "metadata": {},
   "source": [
    "Výpočet PI pomocou Monte Carlo metódy:"
   ]
  },
  {
   "cell_type": "code",
   "execution_count": null,
   "metadata": {
    "polyglot_notebook": {
     "kernelName": "csharp"
    }
   },
   "outputs": [],
   "source": [
    "using System.Threading;\n",
    "\n",
    "public async Task<double> CalculatePiAsync(int iterations)\n",
    "{\n",
    "    int insideCircle = 0;\n",
    "\n",
    "    await Task.Run(() =>\n",
    "    {\n",
    "        Random random = new Random();\n",
    "        for (int i = 0; i < iterations; i++)\n",
    "        {\n",
    "            double x = random.NextDouble();\n",
    "            double y = random.NextDouble();\n",
    "\n",
    "            if (x * x + y * y <= 1)\n",
    "            {\n",
    "                insideCircle++;\n",
    "            }\n",
    "        }\n",
    "    });\n",
    "\n",
    "    // Výpočet Pi\n",
    "    return 4.0 * insideCircle / iterations;\n",
    "}\n",
    "\n",
    "Console.WriteLine(\"Začiatok výpočtu Pi...\");\n",
    "double pi = await CalculatePiAsync(100_000_000);\n",
    "Console.WriteLine($\"Približná hodnota pi: {pi}\");\n"
   ]
  },
  {
   "cell_type": "markdown",
   "metadata": {},
   "source": [
    "Pridajte do metódy `CalculatePiAsync` parameter `CancellationToken token`, pomocou ktorého bude možné zrušiť výpočet Pi "
   ]
  },
  {
   "cell_type": "code",
   "execution_count": null,
   "metadata": {
    "polyglot_notebook": {
     "kernelName": "csharp"
    }
   },
   "outputs": [],
   "source": [
    "using System.Threading;\n",
    "\n",
    "// TODO: Skopírujte kód vyššie a pridajte podporu pre CancellationToken token\n",
    "\n",
    "\n",
    "var cts = new CancellationTokenSource();\n",
    "\n",
    "try\n",
    "{\n",
    "    Console.WriteLine(\"Začiatok výpočtu pi...\");\n",
    "    double pi = await CalculatePiAsync(100_000_000, cts.Token);\n",
    "    Console.WriteLine($\"Približná hodnota pi: {pi}\");\n",
    "}\n",
    "catch (OperationCanceledException)\n",
    "{\n",
    "    Console.WriteLine(\"Výpočet bol zrušený.\");\n",
    "}"
   ]
  }
 ],
 "metadata": {
  "kernelspec": {
   "display_name": ".NET (C#)",
   "language": "C#",
   "name": ".net-csharp"
  },
  "polyglot_notebook": {
   "kernelInfo": {
    "defaultKernelName": "csharp",
    "items": [
     {
      "aliases": [],
      "name": ".NET"
     },
     {
      "aliases": [
       "C#",
       "c#"
      ],
      "languageName": "C#",
      "name": "csharp"
     },
     {
      "aliases": [
       "F#",
       "f#"
      ],
      "languageName": "F#",
      "name": "fsharp"
     },
     {
      "aliases": [],
      "languageName": "HTML",
      "name": "html"
     },
     {
      "aliases": [
       "js"
      ],
      "languageName": "JavaScript",
      "name": "javascript"
     },
     {
      "aliases": [],
      "languageName": "KQL",
      "name": "kql"
     },
     {
      "aliases": [],
      "languageName": "Mermaid",
      "name": "mermaid"
     },
     {
      "aliases": [
       "powershell"
      ],
      "languageName": "PowerShell",
      "name": "pwsh"
     },
     {
      "aliases": [],
      "languageName": "SQL",
      "name": "sql"
     },
     {
      "aliases": [],
      "name": "value"
     },
     {
      "aliases": [
       "frontend"
      ],
      "name": "vscode"
     },
     {
      "aliases": [],
      "name": "webview"
     }
    ]
   }
  }
 },
 "nbformat": 4,
 "nbformat_minor": 2
}
