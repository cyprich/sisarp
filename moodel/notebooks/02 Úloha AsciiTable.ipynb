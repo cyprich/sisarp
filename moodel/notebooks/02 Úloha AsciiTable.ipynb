{
 "cells": [
  {
   "attachments": {},
   "cell_type": "markdown",
   "metadata": {},
   "source": [
    "# Úloha AsciiTable"
   ]
  },
  {
   "attachments": {},
   "cell_type": "markdown",
   "metadata": {},
   "source": [
    "Vypíšte ASCII tabuľku od znaku s decimálnou hodnotou 32 po znak s decimálnou hodnotou 126, pričom na každom riadku zobrazte reprezentáciu jedného znaku ako:\n",
    "- Decimálne číslo na tri miesta (ak bude 1-ciferné číslo, doplnia sa 2 medzery, ak bude 2-ciferné číslo, doplní sa 1 medzera pred číslo)\n",
    "- Binárne číslo s naformátovaním na 7 miest\n",
    "- Oktálové číslo s naformátovaním na 3 miesta\n",
    "- Hexadecimálne číslo začínajúce na 0x\n",
    "- Znak\n",
    "\n",
    "``` \n",
    " 32 0100000 040 0x20  \n",
    " 33 0100001 041 0x21 !\n",
    " 34 0100010 042 0x22 \"\n",
    " 35 0100011 043 0x23 #\n",
    " 36 0100100 044 0x24 $\n",
    " ...\n",
    "124 1111100 174 0x7C |\n",
    "125 1111101 175 0x7D }\n",
    "126 1111110 176 0x7E ~\n",
    "```"
   ]
  },
  {
   "attachments": {},
   "cell_type": "markdown",
   "metadata": {},
   "source": [
    "Konkrétne číselné hodnoty môžete získať nasledovne:"
   ]
  },
  {
   "cell_type": "code",
   "execution_count": 1,
   "metadata": {
    "dotnet_interactive": {
     "language": "csharp"
    },
    "polyglot_notebook": {
     "kernelName": "csharp"
    }
   },
   "outputs": [
    {
     "name": "stdout",
     "output_type": "stream",
     "text": [
      "Decimalne cislo: 65\n",
      "Binarne cislo: 1000001\n",
      "Oktalove cislo: 101\n",
      "Hexadecimalne cislo: 0x41\n",
      "Znak: A\n"
     ]
    }
   ],
   "source": [
    "int number = 65;\n",
    "\n",
    "var binary = Convert.ToInt32(Convert.ToString(number, 2));\n",
    "var oct = Convert.ToInt32(Convert.ToString(number, 8));\n",
    "\n",
    "Console.WriteLine($\"Decimalne cislo: {number}\");\n",
    "Console.WriteLine($\"Binarne cislo: {binary}\");\n",
    "Console.WriteLine($\"Oktalove cislo: {oct}\");\n",
    "Console.WriteLine($\"Hexadecimalne cislo: 0x{number:X}\");\n",
    "Console.WriteLine($\"Znak: {(char)number}\");\n"
   ]
  },
  {
   "cell_type": "markdown",
   "metadata": {},
   "source": [
    "Vaše riešenie:"
   ]
  },
  {
   "cell_type": "code",
   "execution_count": null,
   "metadata": {
    "dotnet_interactive": {
     "language": "csharp"
    },
    "polyglot_notebook": {
     "kernelName": "csharp"
    }
   },
   "outputs": [],
   "source": [
    "// TODO: Naprogramujte výpis ASCII tabuľky podľa zadania vyššie\n"
   ]
  }
 ],
 "metadata": {
  "kernelspec": {
   "display_name": ".NET (C#)",
   "language": "C#",
   "name": ".net-csharp"
  },
  "language_info": {
   "name": "polyglot-notebook"
  },
  "polyglot_notebook": {
   "kernelInfo": {
    "defaultKernelName": "csharp",
    "items": [
     {
      "aliases": [],
      "name": ".NET"
     },
     {
      "aliases": [
       "C#",
       "c#"
      ],
      "languageName": "C#",
      "name": "csharp"
     },
     {
      "aliases": [
       "F#",
       "f#"
      ],
      "languageName": "F#",
      "name": "fsharp"
     },
     {
      "aliases": [],
      "languageName": "HTML",
      "name": "html"
     },
     {
      "aliases": [],
      "languageName": "KQL",
      "name": "kql"
     },
     {
      "aliases": [],
      "languageName": "Mermaid",
      "name": "mermaid"
     },
     {
      "aliases": [
       "powershell"
      ],
      "languageName": "PowerShell",
      "name": "pwsh"
     },
     {
      "aliases": [],
      "languageName": "SQL",
      "name": "sql"
     },
     {
      "aliases": [],
      "name": "value"
     },
     {
      "aliases": [
       "frontend"
      ],
      "name": "vscode"
     }
    ]
   }
  }
 },
 "nbformat": 4,
 "nbformat_minor": 2
}
