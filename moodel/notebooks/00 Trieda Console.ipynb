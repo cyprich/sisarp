{
 "cells": [
  {
   "attachments": {},
   "cell_type": "markdown",
   "metadata": {},
   "source": [
    "# Console\n",
    "\n",
    "Trieda Console predstavuje štandardné vstupné (input), výstupné (output) a chybové (error) prúdy pre konzolové aplikácie. Je definovaná ako statická trieda v mennom priestore `System`.\n",
    "\n",
    "Niektoré vybrané statické vlastnosti (properties):\n",
    " - `In` - získa štandardný vstupný prúd (standard input stream)\n",
    " - `Out` - získa štandardný výstupný prúd (standard output stream)\n",
    " - `Error` - získa štandardný chybový výstupný prúd (standard error output stream)\n",
    " - `KeyAvailable` - získa hodnotu označujúcu, či je stlačenie klávesu dostupné vo vstupnom prúde\n",
    " - `CursorVisible` - získa alebo nastaví hodnotu označujúcu, či je kurzor viditeľný\n",
    " - `ForegroundColor` - získa alebo nastaví farbu popredia (textu)\n",
    " - `BackgroundColor` - získa alebo nastaví farbu pozadia, na ktorý sa vypisujú znaky (text)\n",
    " - `CursorLeft` - získa alebo nastaví pozíciu stĺpca kurzora v okne konzoly\n",
    " - `CursorTop` - získa alebo nastaví pozíciu riadka kurzora v okne konzoly\n",
    " - `WindowWidth` - získa alebo nastaví šírku okna konzoly \n",
    " - `WindowHeight` - získa alebo nastaví výšku okna konzoly\n",
    " - `Title` - získa alebo nastaví názov, ktorý sa má zobraziť v titulnej lište (okna, záložky)\n",
    " - `TreatControlCAsInput` - získa alebo nastaví hodnotu označujúcu, či sa kombinácia stlačených kláves Ctrl+C považuje za bežný vstup (hodnota `true`) alebo za prerušenie, ktoré spracuje operačný systém (`false` - štandardné ukončenie konzolovej aplikácie).\n",
    " - `CapsLock` - získa hodnotu, ktorá označuje, či je prepínač klávesnice CAPS LOCK zapnutý (`true`) alebo vypnutý (`false`)\n",
    " - `NumberLock` - získa hodnotu, ktorá označuje, či je prepínač klávesnice NUM LOCK zapnutý (`true`) alebo vypnutý (`false`)  \n",
    "\n",
    "Niektoré vybrané metódy (methods):\n",
    " - `Write()` - do štandardného výstupného toku zapíše textovú reprezentáciu zadanej hodnoty alebo hodnôt, obsahuje 17 rôznych preťažených metód\n",
    " - `WriteLine()` - do štandardného výstupného toku zapíše špecifikované údaje, za ktorými nasleduje aktuálny terminátor riadka, obsahuje 18 rôznych preťažených metód\n",
    " - `Read()` - prečíta ďalší znak zo štandardného vstupného toku\n",
    " - `ReadLine()` - prečíta ďalší riadok znakov zo štandardného vstupného toku\n",
    " - `ReadKey()` - získa ďalší znak alebo funkčný kláves stlačený používateľom\n",
    " - `Clear()` - vymaže vyrovnávaciu pamäť konzoly a príslušné okno konzoly od zobrazovaných informácií\n",
    " - `ResetColor()` - nastaví farby popredia a pozadia konzoly na predvolené (default) hodnoty\n",
    " - `GetCursorPosition(): (int Left, int Top)` - získa pozíciu kurzora ako dvojicu hodnôt (pozícia stĺpca `Left` a pozícia riadka `Top` kurzora) - rovnako, ako keby zavoláme vlastnosti `CursorLeft` a `CursorTop` samostatne\n",
    " - `SetCursorPosition(int left, int top)` - nastaví pozíciu kurzora ako dvojicu hodnôt (pozícia stĺpca `left` a pozícia riadka `top` kurzora) - rovnako, ako keby nastavíme hodnoty vlastnosťam `CursorLeft` a `CursorTop` samostatne\n",
    " - `Beep()` - prehrá zvuk pípnutia cez reproduktor konzoly\n",
    " - `Beep(int frequency, int duration)` - prehrá zvuk pípnutia s určenou frekvenciou (`frequency`) a trvaním (`duration`) cez reproduktor konzoly\n",
    " \n",
    "Udalosť (event):\n",
    " - `CancelKeyPress` - udalosť sa vyskytne, keď sa súčasne stlačí kláves Ctrl a buď kláves C alebo Break (Ctrl+C alebo Ctrl+Break)\n",
    "\n",
    "Viac informácii v dokumentácii: https://learn.microsoft.com/en-us/dotnet/api/system.console"
   ]
  },
  {
   "cell_type": "code",
   "execution_count": 1,
   "metadata": {
    "dotnet_interactive": {
     "language": "csharp"
    },
    "polyglot_notebook": {
     "kernelName": "csharp"
    }
   },
   "outputs": [
    {
     "name": "stdout",
     "output_type": "stream",
     "text": [
      "Ahoj, toto je veta na samostatnom riadku.\n",
      "Ahoj, toto je veta na samostatnom riadku.\n",
      "Ahoj, toto je veta na samostatnom riadku.\n",
      "Ahoj, toto je veta na samostatnom riadku.\n"
     ]
    }
   ],
   "source": [
    "Console.Write(\"Ahoj, toto\");\n",
    "Console.Write(\" je \");\n",
    "Console.Write(\"veta na samostatnom riadku.\\n\"); // Escape znak \\n vytlačí znak nového riadka\n",
    "\n",
    "Console.Write(\"Ahoj, toto\");\n",
    "Console.Write(\" je \");\n",
    "Console.WriteLine(\"veta na samostatnom riadku.\"); // Console.WriteLine() vytlačí na konci znak nového riadku\n",
    "\n",
    "Console.Write(\"Ahoj, toto je veta na samostatnom riadku.\");\n",
    "Console.WriteLine(); // Console.WriteLine() sa môže použiť aj bez parametra\n",
    "\n",
    "Console.WriteLine(\"Ahoj, toto je veta na samostatnom riadku.\");"
   ]
  },
  {
   "cell_type": "markdown",
   "metadata": {},
   "source": [
    "Keď sa použije príkaz `Console.Write()` / `Console.WriteLine()`, automaticky sa zapisuje do štandardného výstupného prúdu (`Console.Out`), takže nemusíme používať `Console.Out.Write()` / `Console.Out.WriteLine()`. Rovnako tak to platí aj v prípade čítania (napr. `Console.ReadLine()`) cez štadnardný vstupný prúd (`Console.In`). V prípade chýb je možné ich vypisovať na štadardný výstup, avšak niekedy je vhodné ich zapisovať priamo do chybového štadnardného výstupu (`Console.Error`) - výhodou je, že sa chybové správy oddeľujú a zobrazujú sa väčšinou červenou farbou - v tomto notebooku to nevidno, ale ak by ste kód spustili v terminálovom okne, uvidíte rozdieľ."
   ]
  },
  {
   "cell_type": "code",
   "execution_count": null,
   "metadata": {
    "dotnet_interactive": {
     "language": "csharp"
    },
    "polyglot_notebook": {
     "kernelName": "csharp"
    }
   },
   "outputs": [],
   "source": [
    "Console.WriteLine(\"Veta vypísaná na štadnardný výstup.\");\n",
    "Console.Error.WriteLine(\"Veta vypísaná na štadnardný chybový výstup.\");\n",
    "\n",
    "try\n",
    "{\n",
    "    int numberFromUser = 0;\n",
    "    Console.WriteLine(5 / numberFromUser);\n",
    "} \n",
    "catch (Exception e)\n",
    "{\n",
    "    Console.Error.WriteLine(\"Chyba: \" + e);\n",
    "}"
   ]
  },
  {
   "attachments": {},
   "cell_type": "markdown",
   "metadata": {},
   "source": [
    "Formátovanie cez `Console.WriteLine()` môžeme spraviť buď priamo v metóde alebo pomocou znaku `$` pred reťazcom, čo predstavuje tzv. interpoláciu reťazcov (string interpolation), kedy sa reťazec s výrazmi medzi zloženými zátvorkami (`\"{vyraz}\"`) vyhodnocuje a prekladá automaticky do volania `string.Format()`:"
   ]
  },
  {
   "cell_type": "code",
   "execution_count": null,
   "metadata": {
    "dotnet_interactive": {
     "language": "csharp"
    },
    "polyglot_notebook": {
     "kernelName": "csharp"
    }
   },
   "outputs": [],
   "source": [
    "string hello = \"Ahoj\";\n",
    "\n",
    "Console.WriteLine(hello);\n",
    "Console.WriteLine(\"{0}\", hello); // Formátovácí reťazec - za {0} sa nahradí hodnota premennej str\n",
    "Console.WriteLine($\"{hello}\");   // Formátovací reťazec - za {hello} sa nahradí hodnota premennej str - \"string interpolation\",\n",
    "Console.WriteLine(string.Format(\"{0}\", hello)); // Predchádzajúci riadok sa prekladá kompilátorom do takéhoto výrazu"
   ]
  },
  {
   "attachments": {},
   "cell_type": "markdown",
   "metadata": {},
   "source": [
    "Môžeme aj upraviť formátovaný výstup podľa tejto štruktúry: `{<interpolationExpression>[,<alignment>][:<formatString>]}`, pričom:\n",
    "- `interpolationExpression` - výraz, ktorý vytvára výsledok, ktorý sa má formátovať. Reťazcová reprezentácia hodnoty `null` je `string.Empty`.\n",
    "- `alignment` - konštantný výraz, ktorého hodnota definuje minimálny počet znakov vo výslednom reťazci. Ak je kladný, reprezentácia reťazca je zarovnaná doprava. Ak je záporný, je zarovnaná doľava. \n",
    "- `formatString` - formátovací reťazec, ktorý je podporovaný typom výsledku výrazu."
   ]
  },
  {
   "cell_type": "code",
   "execution_count": null,
   "metadata": {
    "dotnet_interactive": {
     "language": "csharp"
    },
    "polyglot_notebook": {
     "kernelName": "csharp"
    }
   },
   "outputs": [],
   "source": [
    "Console.WriteLine($\"\\\"{hello,-10}\\\"\", hello); // Zarovnanie vľavo\n",
    "Console.WriteLine($\"\\\"{hello,10}\\\"\", hello);  // Zarovnanie vpravo\n",
    "Console.WriteLine();"
   ]
  },
  {
   "cell_type": "code",
   "execution_count": null,
   "metadata": {
    "dotnet_interactive": {
     "language": "csharp"
    },
    "polyglot_notebook": {
     "kernelName": "csharp"
    }
   },
   "outputs": [],
   "source": [
    "Console.WriteLine($\"|{\"Vlavo\",-10}|{\"Vpravo\",10}|\");\n",
    "\n",
    "const int FieldWidthRightAligned = 20;\n",
    "Console.WriteLine($\"\\\"{Math.PI}\\\"\"); \n",
    "Console.WriteLine($\"\\\"{Math.PI,FieldWidthRightAligned}\\\" - predvolené formátovanie čísla Pí\");\n",
    "Console.WriteLine($\"\\\"{Math.PI,FieldWidthRightAligned:F3}\\\" - zobrazi iba tri desatinné miesta čísla Pí\");\n",
    "Console.WriteLine($\"\\\"{Math.PI,-FieldWidthRightAligned:F3}\\\" - zobrazi iba tri desatinné miesta čísla Pí, zarovnanie vľavo\");"
   ]
  },
  {
   "cell_type": "code",
   "execution_count": null,
   "metadata": {
    "dotnet_interactive": {
     "language": "csharp"
    },
    "polyglot_notebook": {
     "kernelName": "csharp"
    }
   },
   "outputs": [],
   "source": [
    "string delimeter = new ('-', 10); // Vytvorí reťazec zložený z 10x znaku '-' (\"----------\")\n",
    "\n",
    "// Na pevno vložím 10 znakov '-' pred a za reťazec\n",
    "Console.WriteLine(delimeter + hello + delimeter);        // 1. spôsob\n",
    "Console.WriteLine(delimeter + \"{0}\" + delimeter, hello); // 2. spôsob\n",
    "Console.WriteLine(\"{0}{1}{0}\", delimeter, hello);        // 3. spôsob\n",
    "Console.WriteLine($\"{delimeter}{hello}{delimeter}\");     // 4. spôsob - najlepšie čítateľný "
   ]
  },
  {
   "attachments": {},
   "cell_type": "markdown",
   "metadata": {},
   "source": [
    "Formátovanie cez `Console.Write()` - rôzne spôsoby:"
   ]
  },
  {
   "cell_type": "code",
   "execution_count": null,
   "metadata": {
    "dotnet_interactive": {
     "language": "csharp"
    },
    "polyglot_notebook": {
     "kernelName": "csharp"
    }
   },
   "outputs": [],
   "source": [
    "Console.Write(\"1   \");\n",
    "Console.Write(\"2\");\n",
    "Console.Write(\"   \");\n",
    "Console.Write(\"3\\n\");\n",
    "\n",
    "Console.Write(\"4   5\");\n",
    "Console.WriteLine(\"   6\");\n",
    "\n",
    "Console.Write(7);\n",
    "Console.Write(\"   {0}   \", 8);\n",
    "Console.Write(\"{0}\", 9);\n",
    "Console.WriteLine();\n",
    "\n",
    "Console.Write(\"{0}  \", 10);\n",
    "Console.Write(\"{0}\", 11);\n",
    "Console.WriteLine(\"  {0}\", 12);\n",
    "\n",
    "Console.WriteLine(\"{0}  {1}  {2}\", 13, 14, 15);\n",
    "\n",
    "Console.WriteLine(\"{0,-4}{1,-4}{2}\", 16, 17, 18);  \n",
    "\n",
    "Console.WriteLine(\"{0}{1}{2}\", \"19\".PadRight(4), 20.ToString().PadRight(4), 21);"
   ]
  },
  {
   "attachments": {},
   "cell_type": "markdown",
   "metadata": {},
   "source": [
    "To isté ako predchádzajúce, ale cez cyklus:"
   ]
  },
  {
   "cell_type": "code",
   "execution_count": null,
   "metadata": {
    "dotnet_interactive": {
     "language": "csharp"
    },
    "polyglot_notebook": {
     "kernelName": "csharp"
    }
   },
   "outputs": [],
   "source": [
    "for (int i = 1; i < 22; i++)\n",
    "{\n",
    "    Console.Write($\"{i,-4}\");\n",
    "    if (i % 3 == 0)\n",
    "        Console.WriteLine();    \n",
    "}"
   ]
  },
  {
   "attachments": {},
   "cell_type": "markdown",
   "metadata": {},
   "source": [
    "V notebooku sa veľa vlastností otestovať nedá, pretože je výstup presmerovaný (nasledujúci výpis vyhodí výnimku `IOException`):"
   ]
  },
  {
   "cell_type": "code",
   "execution_count": null,
   "metadata": {
    "dotnet_interactive": {
     "language": "csharp"
    },
    "polyglot_notebook": {
     "kernelName": "csharp"
    }
   },
   "outputs": [],
   "source": [
    "Console.WriteLine(Console.WindowWidth);"
   ]
  },
  {
   "attachments": {},
   "cell_type": "markdown",
   "metadata": {},
   "source": [
    "Môžeme otestovať vlastnosť `CapsLock` (môžete na klávesnici stlačiť Caps Lock a znova spustiť nasledujúci riadok):"
   ]
  },
  {
   "cell_type": "code",
   "execution_count": null,
   "metadata": {
    "dotnet_interactive": {
     "language": "csharp"
    },
    "polyglot_notebook": {
     "kernelName": "csharp"
    }
   },
   "outputs": [],
   "source": [
    "Console.WriteLine(\"CapsLock kláves je {0}.\", Console.CapsLock ? \"zapnutý\" : \"vypnutý\");"
   ]
  },
  {
   "attachments": {},
   "cell_type": "markdown",
   "metadata": {},
   "source": [
    "Alebo vlastnosť `Title`"
   ]
  },
  {
   "cell_type": "code",
   "execution_count": null,
   "metadata": {
    "dotnet_interactive": {
     "language": "csharp"
    },
    "polyglot_notebook": {
     "kernelName": "csharp"
    }
   },
   "outputs": [],
   "source": [
    "Console.WriteLine(\"Titulok: \" + Console.Title);\n",
    "Console.Title = \"Nový nadpis\";\n",
    "Console.WriteLine(\"Titulok: \" + Console.Title);"
   ]
  },
  {
   "attachments": {},
   "cell_type": "markdown",
   "metadata": {},
   "source": [
    "Rovnako tak sa nedajú otestovať v notebooku metódy na získanie vstupu: `Console.ReadLine()`, `Console.Read()` a `Console.ReadKey()`."
   ]
  },
  {
   "attachments": {},
   "cell_type": "markdown",
   "metadata": {},
   "source": [
    "3 pípnutia - odpočet 3 sekúnd:"
   ]
  },
  {
   "cell_type": "code",
   "execution_count": null,
   "metadata": {
    "dotnet_interactive": {
     "language": "csharp"
    },
    "polyglot_notebook": {
     "kernelName": "csharp"
    }
   },
   "outputs": [],
   "source": [
    "int seconds = 3;\n",
    "while (seconds > 0)\n",
    "{\n",
    "    Console.Beep();\n",
    "    Console.WriteLine(seconds);\n",
    "    seconds--;\n",
    "    await Task.Delay(1000); // Čaká 1000 milisekúnd (t. j. 1 sekundu)\n",
    "}\n",
    "\n",
    "Console.WriteLine(\"Štart\");\n",
    "Console.Beep(800, 1000);"
   ]
  },
  {
   "attachments": {},
   "cell_type": "markdown",
   "metadata": {},
   "source": [
    "Dokonca sa dá prehrať aj \"pesnička\" (konkrétne použitie typu enum a rekord bude uvedené v budúcich prednáškach, teraz len pre ukážku):"
   ]
  },
  {
   "cell_type": "code",
   "execution_count": null,
   "metadata": {
    "dotnet_interactive": {
     "language": "csharp"
    },
    "polyglot_notebook": {
     "kernelName": "csharp"
    }
   },
   "outputs": [],
   "source": [
    "// Príklad získaný a upravený: https://learn.microsoft.com/en-us/dotnet/api/system.console.beep  \n",
    "\n",
    "enum Tone\n",
    "{\n",
    "    Rest    = 0,\n",
    "    GbelowC = 196,\n",
    "    A       = 220,\n",
    "    Asharp  = 233,\n",
    "    B       = 247,\n",
    "    C       = 262,\n",
    "    Csharp  = 277,\n",
    "    D       = 294,\n",
    "    Dsharp  = 311,\n",
    "    E       = 330,\n",
    "    F       = 349,\n",
    "    Fsharp  = 370,\n",
    "    G       = 392,\n",
    "    Gsharp  = 415,\n",
    "}\n",
    "\n",
    "enum Duration\n",
    "{\n",
    "    Whole     = 1600,\n",
    "    Half      = Whole / 2,\n",
    "    Quarter   = Half / 2,\n",
    "    Eight     = Quarter / 2,\n",
    "    Sixteenth = Eight / 2,\n",
    "}\n",
    "\n",
    "record Note(Tone NoteTone, Duration NoteDuration);\n",
    "\n",
    "var maryHadALittleLamb = new[]\n",
    "{\n",
    "    new Note(Tone.B, Duration.Quarter),\n",
    "    new Note(Tone.A, Duration.Quarter),\n",
    "    new Note(Tone.GbelowC, Duration.Quarter),\n",
    "    new Note(Tone.A, Duration.Quarter),\n",
    "    new Note(Tone.B, Duration.Quarter),\n",
    "    new Note(Tone.B, Duration.Quarter),\n",
    "    new Note(Tone.B, Duration.Half),\n",
    "    new Note(Tone.A, Duration.Quarter),\n",
    "    new Note(Tone.A, Duration.Quarter),\n",
    "    new Note(Tone.A, Duration.Half),\n",
    "    new Note(Tone.B, Duration.Quarter),\n",
    "    new Note(Tone.D, Duration.Quarter),\n",
    "    new Note(Tone.D, Duration.Half)\n",
    "};\n",
    "\n",
    "foreach (Note n in maryHadALittleLamb)\n",
    "{\n",
    "    if (n.NoteTone == Tone.Rest)\n",
    "        System.Threading.Thread.Sleep((int)n.NoteDuration);\n",
    "    else\n",
    "        Console.Beep((int)n.NoteTone, (int)n.NoteDuration);\n",
    "}\n"
   ]
  }
 ],
 "metadata": {
  "kernelspec": {
   "display_name": ".NET (C#)",
   "language": "C#",
   "name": ".net-csharp"
  },
  "language_info": {
   "name": "polyglot-notebook"
  },
  "polyglot_notebook": {
   "kernelInfo": {
    "defaultKernelName": "csharp",
    "items": [
     {
      "aliases": [],
      "name": ".NET"
     },
     {
      "aliases": [
       "C#",
       "c#"
      ],
      "languageName": "C#",
      "name": "csharp"
     },
     {
      "aliases": [
       "F#",
       "f#"
      ],
      "languageName": "F#",
      "name": "fsharp"
     },
     {
      "aliases": [],
      "languageName": "HTML",
      "name": "html"
     },
     {
      "aliases": [],
      "languageName": "KQL",
      "name": "kql"
     },
     {
      "aliases": [],
      "languageName": "Mermaid",
      "name": "mermaid"
     },
     {
      "aliases": [
       "powershell"
      ],
      "languageName": "PowerShell",
      "name": "pwsh"
     },
     {
      "aliases": [],
      "languageName": "SQL",
      "name": "sql"
     },
     {
      "aliases": [],
      "name": "value"
     },
     {
      "aliases": [
       "frontend"
      ],
      "name": "vscode"
     }
    ]
   }
  }
 },
 "nbformat": 4,
 "nbformat_minor": 2
}
