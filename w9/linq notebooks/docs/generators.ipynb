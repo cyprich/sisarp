{
 "cells": [
  {
   "attachments": {},
   "cell_type": "markdown",
   "metadata": {},
   "source": [
    "# LINQ - Generate elements\n",
    "\n",
    "The methods `Range` and `Repeat` create sequences of integers. These can be the source sequences of queries."
   ]
  },
  {
   "attachments": {},
   "cell_type": "markdown",
   "metadata": {},
   "source": [
    "## Create a range of numbers\n",
    "\n",
    "This sample uses `Range` to generates a sequence of integral numbers within a specified range."
   ]
  },
  {
   "cell_type": "code",
   "execution_count": null,
   "metadata": {
    "dotnet_interactive": {
     "language": "csharp"
    },
    "polyglot_notebook": {
     "kernelName": "csharp"
    },
    "vscode": {
     "languageId": "polyglot-notebook"
    }
   },
   "outputs": [],
   "source": [
    "var numbers = from n in Enumerable.Range(100, 50)\n",
    "              select (Number: n, OddEven: n % 2 == 1 ? \"odd\" : \"even\");\n",
    "\n",
    "foreach (var n in numbers)\n",
    "{\n",
    "    Console.WriteLine(\"The number {0} is {1}.\", n.Number, n.OddEven);\n",
    "}"
   ]
  },
  {
   "attachments": {},
   "cell_type": "markdown",
   "metadata": {},
   "source": [
    "## Repeat the same number\n",
    "\n",
    "This sample uses `Repeat` to generates a sequence that contains one repeated value."
   ]
  },
  {
   "cell_type": "code",
   "execution_count": null,
   "metadata": {
    "dotnet_interactive": {
     "language": "csharp"
    },
    "polyglot_notebook": {
     "kernelName": "csharp"
    },
    "vscode": {
     "languageId": "polyglot-notebook"
    }
   },
   "outputs": [],
   "source": [
    "var numbers = Enumerable.Repeat(7, 10);\n",
    "\n",
    "foreach (var n in numbers)\n",
    "{\n",
    "    Console.WriteLine(n);\n",
    "}"
   ]
  },
  {
   "attachments": {},
   "cell_type": "markdown",
   "metadata": {},
   "source": [
    "**Next: [Quantifying operations &raquo;](./quantifiers.ipynb) Previous:  [Conversion operations &raquo;](./conversions.ipynb)**\n",
    "\n",
    "**[Home](../index.ipynb)**\n"
   ]
  }
 ],
 "metadata": {
  "language_info": {
   "name": "csharp"
  },
  "orig_nbformat": 4
 },
 "nbformat": 4,
 "nbformat_minor": 2
}
