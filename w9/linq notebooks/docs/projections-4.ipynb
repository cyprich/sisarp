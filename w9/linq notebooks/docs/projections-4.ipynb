{
 "cells": [
  {
   "attachments": {},
   "cell_type": "markdown",
   "metadata": {},
   "source": [
    "# LINQ - Projection Operators\n",
    "\n",
    "The `select` clause of a LINQ query *projects* the output sequence. It transforms each input element into the shape of the output sequence"
   ]
  },
  {
   "attachments": {},
   "cell_type": "markdown",
   "metadata": {},
   "source": [
    "### Prerequisites"
   ]
  },
  {
   "cell_type": "code",
   "execution_count": null,
   "metadata": {
    "dotnet_interactive": {
     "language": "csharp"
    },
    "polyglot_notebook": {
     "kernelName": "csharp"
    },
    "vscode": {
     "languageId": "polyglot-notebook"
    }
   },
   "outputs": [],
   "source": [
    "using System.IO;\n",
    "using System.Xml.Linq;\n",
    "\n",
    "public static class InputValues\n",
    "{       \n",
    "    private static string customersXml;\n",
    "    public static string CustomersXml = customersXml ??= File.ReadAllText(\"_customers.xml\");\n",
    "}\n",
    "\n",
    "public class Customer\n",
    "{\n",
    "    public string CustomerID { get; set; }\n",
    "    public string CompanyName { get; set; }\n",
    "    public string Address { get; set; }\n",
    "    public string City { get; set; }\n",
    "    public string Region { get; set; }\n",
    "    public string PostalCode { get; set; }\n",
    "    public string Country { get; set; }\n",
    "    public string Phone { get; set; }\n",
    "    public Order[] Orders { get; set; }\n",
    "    public override string ToString() => \n",
    "        $\"{CustomerID} {CompanyName}\\n{Address}\\n{City}, {Region} {PostalCode} {Country}\\n{Phone}\";\n",
    "}\n",
    "\n",
    "public class Order\n",
    "{\n",
    "    public int OrderID { get; set; }\n",
    "    public DateTime OrderDate { get; set; }\n",
    "    public decimal Total { get; set; }\n",
    "    public override string ToString() => $\"{OrderID}: {OrderDate:d} for {Total:C2}\";\n",
    "}\n",
    "\n",
    "public static class Customers\n",
    "{\n",
    "    public static List<Customer> CustomerList { get; } =\n",
    "        (from e in XDocument.Parse(InputValues.CustomersXml).Root.Elements(\"customer\")\n",
    "            select new Customer\n",
    "            {\n",
    "                CustomerID = (string)e.Element(\"id\"),\n",
    "                CompanyName = (string)e.Element(\"name\"),\n",
    "                Address = (string)e.Element(\"address\"),\n",
    "                City = (string)e.Element(\"city\"),\n",
    "                Region = (string)e.Element(\"region\"),\n",
    "                PostalCode = (string)e.Element(\"postalcode\"),\n",
    "                Country = (string)e.Element(\"country\"),\n",
    "                Phone = (string)e.Element(\"phone\"),\n",
    "                Orders = (\n",
    "                from o in e.Elements(\"orders\").Elements(\"order\")\n",
    "                select new Order\n",
    "                {\n",
    "                    OrderID = (int)o.Element(\"id\"),\n",
    "                    OrderDate = (DateTime)o.Element(\"orderdate\"),\n",
    "                    Total = (decimal)o.Element(\"total\")\n",
    "                }).ToArray()\n",
    "            }).ToList();\n",
    "}\n",
    "\n",
    "List<Customer> GetCustomerList() => Customers.CustomerList;"
   ]
  },
  {
   "attachments": {},
   "cell_type": "markdown",
   "metadata": {},
   "source": [
    "## Select from multiple input sequences\n",
    "\n",
    "This sample uses a compound `from` clause to make a query that returns all pairs of numbers from both arrays such that the number from `numbersA` is less than the number from `numbersB`."
   ]
  },
  {
   "cell_type": "code",
   "execution_count": null,
   "metadata": {
    "dotnet_interactive": {
     "language": "csharp"
    },
    "polyglot_notebook": {
     "kernelName": "csharp"
    },
    "vscode": {
     "languageId": "polyglot-notebook"
    }
   },
   "outputs": [],
   "source": [
    "int[] numbersA = { 0, 2, 4, 5, 6, 8, 9 };\n",
    "int[] numbersB = { 1, 3, 5, 7, 8 };\n",
    "\n",
    "var pairs = from a in numbersA\n",
    "            from b in numbersB\n",
    "            where a < b\n",
    "            select (a, b);\n",
    "\n",
    "Console.WriteLine(\"Pairs where a < b:\");\n",
    "foreach (var pair in pairs)\n",
    "{\n",
    "    Console.WriteLine($\"{pair.a} is less than {pair.b}\");\n",
    "}"
   ]
  },
  {
   "attachments": {},
   "cell_type": "markdown",
   "metadata": {},
   "source": [
    "## Select from related input sequences\n",
    "\n",
    "This sample uses a compound `from` clause to select all orders where the order total is less than 500.00."
   ]
  },
  {
   "cell_type": "code",
   "execution_count": null,
   "metadata": {
    "dotnet_interactive": {
     "language": "csharp"
    },
    "polyglot_notebook": {
     "kernelName": "csharp"
    },
    "vscode": {
     "languageId": "polyglot-notebook"
    }
   },
   "outputs": [],
   "source": [
    "List<Customer> customers = GetCustomerList();\n",
    "\n",
    "var orders = from c in customers\n",
    "             from o in c.Orders\n",
    "             where o.Total < 500.00M\n",
    "             select (c.CustomerID, o.OrderID, o.Total);\n",
    "\n",
    "foreach (var order in orders)\n",
    "{\n",
    "    Console.WriteLine($\"Customer: {order.CustomerID}, Order: {order.OrderID}, Total value: {order.Total}\");\n",
    "}"
   ]
  },
  {
   "attachments": {},
   "cell_type": "markdown",
   "metadata": {},
   "source": [
    "## Compound select with where clause\n",
    "\n",
    "This sample uses a compound `from` clause to select all orders where the order was made in 1998 or later."
   ]
  },
  {
   "cell_type": "code",
   "execution_count": null,
   "metadata": {
    "dotnet_interactive": {
     "language": "csharp"
    },
    "polyglot_notebook": {
     "kernelName": "csharp"
    },
    "vscode": {
     "languageId": "polyglot-notebook"
    }
   },
   "outputs": [],
   "source": [
    "List<Customer> customers = GetCustomerList();\n",
    "\n",
    "var orders = from c in customers\n",
    "             from o in c.Orders\n",
    "             where o.OrderDate >= new DateTime(1998, 1, 1)\n",
    "             select (c.CustomerID, o.OrderID, o.OrderDate);\n",
    "\n",
    "foreach (var order in orders)\n",
    "{\n",
    "    Console.WriteLine($\"Customer: {order.CustomerID}, Order: {order.OrderID}, Total date: {order.OrderDate.ToShortDateString()}\");\n",
    "}"
   ]
  },
  {
   "attachments": {},
   "cell_type": "markdown",
   "metadata": {},
   "source": [
    "**Next: [Compound projections  &raquo;](./projections-5.ipynb) Previous: [Restrictions with index and where &laquo;](./projections-3.ipynb)**\n",
    "\n",
    "**[Home](../index.ipynb)**"
   ]
  }
 ],
 "metadata": {
  "language_info": {
   "name": "csharp"
  },
  "orig_nbformat": 4
 },
 "nbformat": 4,
 "nbformat_minor": 2
}
