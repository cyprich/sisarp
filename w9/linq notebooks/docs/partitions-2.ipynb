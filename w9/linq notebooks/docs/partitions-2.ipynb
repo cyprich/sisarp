{
 "cells": [
  {
   "attachments": {},
   "cell_type": "markdown",
   "metadata": {},
   "source": [
    "# LINQ - Partition Operators\n",
    "\n",
    "`TakeWhile` and `SkipWhile` *partition* an output sequence based a condition instead of a count of elements. You use these to limit the portion of an input sequence transferred to the output sequence."
   ]
  },
  {
   "attachments": {},
   "cell_type": "markdown",
   "metadata": {},
   "source": [
    "## TakeWhile syntax\n",
    "\n",
    "This sample uses `TakeWhile` to return elements starting from the beginning of the array until a number is hit that is not less than 6."
   ]
  },
  {
   "cell_type": "code",
   "execution_count": null,
   "metadata": {
    "dotnet_interactive": {
     "language": "csharp"
    },
    "polyglot_notebook": {
     "kernelName": "csharp"
    },
    "vscode": {
     "languageId": "polyglot-notebook"
    }
   },
   "outputs": [],
   "source": [
    "int[] numbers = { 5, 4, 1, 3, 9, 8, 6, 7, 2, 0 };\n",
    "\n",
    "var firstNumbersLessThan6 = numbers.TakeWhile(n => n < 6);\n",
    "\n",
    "Console.WriteLine(\"First numbers less than 6:\");\n",
    "foreach (var num in firstNumbersLessThan6)\n",
    "{\n",
    "    Console.WriteLine(num);\n",
    "}"
   ]
  },
  {
   "attachments": {},
   "cell_type": "markdown",
   "metadata": {},
   "source": [
    "## Indexed TakeWhile\n",
    "\n",
    "This sample uses `TakeWhile` to return elements starting from the beginning of the array until a number is hit that is less than its position in the array."
   ]
  },
  {
   "cell_type": "code",
   "execution_count": null,
   "metadata": {
    "dotnet_interactive": {
     "language": "csharp"
    },
    "polyglot_notebook": {
     "kernelName": "csharp"
    },
    "vscode": {
     "languageId": "polyglot-notebook"
    }
   },
   "outputs": [],
   "source": [
    "int[] numbers = { 5, 4, 1, 3, 9, 8, 6, 7, 2, 0 };\n",
    "\n",
    "var firstSmallNumbers = numbers.TakeWhile((n, index) => n >= index);\n",
    "\n",
    "Console.WriteLine(\"First numbers not less than their position:\");\n",
    "foreach (var n in firstSmallNumbers)\n",
    "{\n",
    "    Console.WriteLine(n);\n",
    "}"
   ]
  },
  {
   "attachments": {},
   "cell_type": "markdown",
   "metadata": {},
   "source": [
    "## SkipWhile syntax\n",
    "\n",
    "This sample uses `SkipWhile` to get the elements of the array starting from the first element divisible by 3."
   ]
  },
  {
   "cell_type": "code",
   "execution_count": null,
   "metadata": {
    "dotnet_interactive": {
     "language": "csharp"
    },
    "polyglot_notebook": {
     "kernelName": "csharp"
    },
    "vscode": {
     "languageId": "polyglot-notebook"
    }
   },
   "outputs": [],
   "source": [
    "int[] numbers = { 5, 4, 1, 3, 9, 8, 6, 7, 2, 0 };\n",
    "\n",
    "// In the lambda expression, 'n' is the input parameter that identifies each\n",
    "// element in the collection in succession. It is is inferred to be\n",
    "// of type int because numbers is an int array.\n",
    "var allButFirst3Numbers = numbers.SkipWhile(n => n % 3 != 0);\n",
    "\n",
    "Console.WriteLine(\"All elements starting from first element divisible by 3:\");\n",
    "foreach (var n in allButFirst3Numbers)\n",
    "{\n",
    "    Console.WriteLine(n);\n",
    "}"
   ]
  },
  {
   "attachments": {},
   "cell_type": "markdown",
   "metadata": {},
   "source": [
    "## Indexed SkipWhile\n",
    "\n",
    "This sample uses `SkipWhile` to get the elements of the array starting from the first element less than its position."
   ]
  },
  {
   "cell_type": "code",
   "execution_count": null,
   "metadata": {
    "dotnet_interactive": {
     "language": "csharp"
    },
    "polyglot_notebook": {
     "kernelName": "csharp"
    },
    "vscode": {
     "languageId": "polyglot-notebook"
    }
   },
   "outputs": [],
   "source": [
    "int[] numbers = { 5, 4, 1, 3, 9, 8, 6, 7, 2, 0 };\n",
    "\n",
    "var laterNumbers = numbers.SkipWhile((n, index) => n >= index);\n",
    "\n",
    "Console.WriteLine(\"All elements starting from first element less than its position:\");\n",
    "foreach (var n in laterNumbers)\n",
    "{\n",
    "    Console.WriteLine(n);\n",
    "}"
   ]
  },
  {
   "attachments": {},
   "cell_type": "markdown",
   "metadata": {},
   "source": [
    "**Next: [Ordering operations &raquo;](./orderings.ipynb) Previous: [Partitions &laquo;](./partitions.ipynb)**\n",
    "\n",
    "**[Home](../index.ipynb)**"
   ]
  }
 ],
 "metadata": {
  "language_info": {
   "name": "csharp"
  },
  "orig_nbformat": 4
 },
 "nbformat": 4,
 "nbformat_minor": 2
}
