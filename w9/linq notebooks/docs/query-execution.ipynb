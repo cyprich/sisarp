{
 "cells": [
  {
   "attachments": {},
   "cell_type": "markdown",
   "metadata": {},
   "source": [
    "# LINQ - lazy and eager execution\n",
    "\n",
    "Learn to specify either eager or lazy query execution.\n",
    "\n",
    "## Queries execute lazily\n",
    "\n",
    "The following sample shows how query execution is deferred until the query is enumerated at a foreach statement."
   ]
  },
  {
   "cell_type": "code",
   "execution_count": null,
   "metadata": {
    "dotnet_interactive": {
     "language": "csharp"
    },
    "polyglot_notebook": {
     "kernelName": "csharp"
    },
    "vscode": {
     "languageId": "polyglot-notebook"
    }
   },
   "outputs": [],
   "source": [
    "// Sequence operators form first-class queries that\n",
    "// are not executed until you enumerate over them.\n",
    "\n",
    "int[] numbers = { 5, 4, 1, 3, 9, 8, 6, 7, 2, 0 };\n",
    "\n",
    "int i = 0;\n",
    "var q = from n in numbers\n",
    "        select ++i;\n",
    "\n",
    "// Note, the local variable 'i' is not incremented\n",
    "// until each element is evaluated (as a side-effect):\n",
    "foreach (var v in q)\n",
    "{\n",
    "    Console.WriteLine($\"v = {v}, i = {i}\");\n",
    "}"
   ]
  },
  {
   "attachments": {},
   "cell_type": "markdown",
   "metadata": {},
   "source": [
    "## Request eager query execution\n",
    "\n",
    "The following sample shows how queries can be executed immediately with operators such as `ToList()`."
   ]
  },
  {
   "cell_type": "code",
   "execution_count": null,
   "metadata": {
    "dotnet_interactive": {
     "language": "csharp"
    },
    "polyglot_notebook": {
     "kernelName": "csharp"
    },
    "vscode": {
     "languageId": "polyglot-notebook"
    }
   },
   "outputs": [],
   "source": [
    "// Methods like ToList() cause the query to be\n",
    "// executed immediately, caching the results.\n",
    "\n",
    "int[] numbers = { 5, 4, 1, 3, 9, 8, 6, 7, 2, 0 };\n",
    "\n",
    "int i = 0;\n",
    "var q = (from n in numbers\n",
    "         select ++i)\n",
    "         .ToList();\n",
    "\n",
    "// The local variable i has already been fully\n",
    "// incremented before we iterate the results:\n",
    "foreach (var v in q)\n",
    "{\n",
    "    Console.WriteLine($\"v = {v}, i = {i}\");\n",
    "}"
   ]
  },
  {
   "attachments": {},
   "cell_type": "markdown",
   "metadata": {},
   "source": [
    "You can replace the `ToList` call with a `ToArray`. Try it.\n",
    "\n",
    "## Reuse queries with new results\n",
    "\n",
    "The following sample shows how, because of deferred execution, queries can be used again after data changes and will then operate on the new data."
   ]
  },
  {
   "cell_type": "code",
   "execution_count": null,
   "metadata": {
    "dotnet_interactive": {
     "language": "csharp"
    },
    "polyglot_notebook": {
     "kernelName": "csharp"
    },
    "vscode": {
     "languageId": "polyglot-notebook"
    }
   },
   "outputs": [],
   "source": [
    "// Deferred execution lets us define a query once\n",
    "// and then reuse it later after data changes.\n",
    "\n",
    "int[] numbers = { 5, 4, 1, 3, 9, 8, 6, 7, 2, 0 };\n",
    "var lowNumbers = from n in numbers\n",
    "                 where n <= 3\n",
    "                 select n;\n",
    "\n",
    "Console.WriteLine(\"First run numbers <= 3:\");\n",
    "foreach (int n in lowNumbers)\n",
    "{\n",
    "    Console.WriteLine(n);\n",
    "}\n",
    "\n",
    "for (int i = 0; i < 10; i++)\n",
    "{\n",
    "    numbers[i] = -numbers[i];\n",
    "}\n",
    "\n",
    "// During this second run, the same query object,\n",
    "// lowNumbers, will be iterating over the new state\n",
    "// of numbers[], producing different results:\n",
    "Console.WriteLine(\"Second run numbers <= 3:\");\n",
    "foreach (int n in lowNumbers)\n",
    "{\n",
    "    Console.WriteLine(n);\n",
    "}"
   ]
  },
  {
   "attachments": {},
   "cell_type": "markdown",
   "metadata": {},
   "source": [
    "**Next: [Join operators &raquo;](./join-operators.ipynb) Previous:  [sequence-operations &raquo;](./sequence-operations.ipynb)**\n",
    "\n",
    "**[Home](../index.ipynb)**"
   ]
  }
 ],
 "metadata": {
  "language_info": {
   "name": "csharp"
  },
  "orig_nbformat": 4
 },
 "nbformat": 4,
 "nbformat_minor": 2
}
