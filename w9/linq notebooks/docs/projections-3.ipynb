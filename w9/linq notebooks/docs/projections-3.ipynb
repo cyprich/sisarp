{
 "cells": [
  {
   "attachments": {},
   "cell_type": "markdown",
   "metadata": {},
   "source": [
    "# LINQ - Projection Operators\n",
    "\n",
    "The `select` clause of a LINQ query *projects* the output sequence. It transforms each input element into the shape of the output sequence\n",
    "\n",
    "## Select with index of item\n",
    "\n",
    "This sample uses an indexed `Select` clause to determine if the value of ints in an array match their position in the array."
   ]
  },
  {
   "cell_type": "code",
   "execution_count": null,
   "metadata": {
    "dotnet_interactive": {
     "language": "csharp"
    },
    "polyglot_notebook": {
     "kernelName": "csharp"
    },
    "vscode": {
     "languageId": "polyglot-notebook"
    }
   },
   "outputs": [],
   "source": [
    "int[] numbers = { 5, 4, 1, 3, 9, 8, 6, 7, 2, 0 };\n",
    "\n",
    "var numsInPlace = numbers.Select((num, index) => (Num: num, InPlace: (num == index)));\n",
    "\n",
    "Console.WriteLine(\"Number: In-place?\");\n",
    "foreach (var n in numsInPlace)\n",
    "{\n",
    "    Console.WriteLine($\"{n.Num}: {n.InPlace}\");\n",
    "}"
   ]
  },
  {
   "attachments": {},
   "cell_type": "markdown",
   "metadata": {},
   "source": [
    "## Select combined with where\n",
    "\n",
    "This sample combines `select` and `where` to make a simple query that returns the text form of each digit less than 5."
   ]
  },
  {
   "cell_type": "code",
   "execution_count": null,
   "metadata": {
    "dotnet_interactive": {
     "language": "csharp"
    },
    "polyglot_notebook": {
     "kernelName": "csharp"
    },
    "vscode": {
     "languageId": "polyglot-notebook"
    }
   },
   "outputs": [],
   "source": [
    "int[] numbers = { 5, 4, 1, 3, 9, 8, 6, 7, 2, 0 };\n",
    "string[] digits = { \"zero\", \"one\", \"two\", \"three\", \"four\", \"five\", \"six\", \"seven\", \"eight\", \"nine\" };\n",
    "\n",
    "var lowNums = from n in numbers\n",
    "              where n < 5\n",
    "              select digits[n];\n",
    "\n",
    "Console.WriteLine(\"Numbers < 5:\");\n",
    "foreach (var num in lowNums)\n",
    "{\n",
    "    Console.WriteLine(num);\n",
    "}"
   ]
  },
  {
   "attachments": {},
   "cell_type": "markdown",
   "metadata": {},
   "source": [
    "**Next: [Projections from multiple inputs  &raquo;](./projections-4.ipynb) Previous: [Projects to new types &laquo;](./projections-2.ipynb)**\n",
    "\n",
    "**[Home](../index.ipynb)**"
   ]
  }
 ],
 "metadata": {
  "language_info": {
   "name": "csharp"
  },
  "orig_nbformat": 4
 },
 "nbformat": 4,
 "nbformat_minor": 2
}
