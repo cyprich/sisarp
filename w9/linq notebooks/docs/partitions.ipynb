{
 "cells": [
  {
   "attachments": {},
   "cell_type": "markdown",
   "metadata": {},
   "source": [
    "# LINQ - Partition Operators\n",
    "\n",
    "The methods `Take`, `Skip`, `TakeWhile` and `SkipWhile` *partition* an output sequence. You use these to limit the portion of an input sequence transferred to the output sequence."
   ]
  },
  {
   "attachments": {},
   "cell_type": "markdown",
   "metadata": {},
   "source": [
    "### Prerequisites"
   ]
  },
  {
   "cell_type": "code",
   "execution_count": null,
   "metadata": {
    "dotnet_interactive": {
     "language": "csharp"
    },
    "polyglot_notebook": {
     "kernelName": "csharp"
    },
    "vscode": {
     "languageId": "polyglot-notebook"
    }
   },
   "outputs": [],
   "source": [
    "using System.IO;\n",
    "using System.Xml.Linq;\n",
    "\n",
    "public static class InputValues\n",
    "{       \n",
    "    private static string customersXml;\n",
    "    public static string CustomersXml = customersXml ??= File.ReadAllText(\"_customers.xml\");\n",
    "}\n",
    "\n",
    "public class Customer\n",
    "{\n",
    "    public string CustomerID { get; set; }\n",
    "    public string CompanyName { get; set; }\n",
    "    public string Address { get; set; }\n",
    "    public string City { get; set; }\n",
    "    public string Region { get; set; }\n",
    "    public string PostalCode { get; set; }\n",
    "    public string Country { get; set; }\n",
    "    public string Phone { get; set; }\n",
    "    public Order[] Orders { get; set; }\n",
    "    public override string ToString() => \n",
    "        $\"{CustomerID} {CompanyName}\\n{Address}\\n{City}, {Region} {PostalCode} {Country}\\n{Phone}\";\n",
    "}\n",
    "\n",
    "public class Order\n",
    "{\n",
    "    public int OrderID { get; set; }\n",
    "    public DateTime OrderDate { get; set; }\n",
    "    public decimal Total { get; set; }\n",
    "    public override string ToString() => $\"{OrderID}: {OrderDate:d} for {Total:C2}\";\n",
    "}\n",
    "\n",
    "public static class Customers\n",
    "{\n",
    "    public static List<Customer> CustomerList { get; } =\n",
    "        (from e in XDocument.Parse(InputValues.CustomersXml).Root.Elements(\"customer\")\n",
    "            select new Customer\n",
    "            {\n",
    "                CustomerID = (string)e.Element(\"id\"),\n",
    "                CompanyName = (string)e.Element(\"name\"),\n",
    "                Address = (string)e.Element(\"address\"),\n",
    "                City = (string)e.Element(\"city\"),\n",
    "                Region = (string)e.Element(\"region\"),\n",
    "                PostalCode = (string)e.Element(\"postalcode\"),\n",
    "                Country = (string)e.Element(\"country\"),\n",
    "                Phone = (string)e.Element(\"phone\"),\n",
    "                Orders = (\n",
    "                from o in e.Elements(\"orders\").Elements(\"order\")\n",
    "                select new Order\n",
    "                {\n",
    "                    OrderID = (int)o.Element(\"id\"),\n",
    "                    OrderDate = (DateTime)o.Element(\"orderdate\"),\n",
    "                    Total = (decimal)o.Element(\"total\")\n",
    "                }).ToArray()\n",
    "            }).ToList();\n",
    "}\n",
    "\n",
    "List<Customer> GetCustomerList() => Customers.CustomerList;"
   ]
  },
  {
   "attachments": {},
   "cell_type": "markdown",
   "metadata": {},
   "source": [
    "## Take elements\n",
    "\n",
    "This sample uses `Take` to get only the first 3 elements of the array."
   ]
  },
  {
   "cell_type": "code",
   "execution_count": null,
   "metadata": {
    "dotnet_interactive": {
     "language": "csharp"
    },
    "polyglot_notebook": {
     "kernelName": "csharp"
    },
    "vscode": {
     "languageId": "polyglot-notebook"
    }
   },
   "outputs": [],
   "source": [
    "int[] numbers = { 5, 4, 1, 3, 9, 8, 6, 7, 2, 0 };\n",
    "\n",
    "var first3Numbers = numbers.Take(3);\n",
    "\n",
    "Console.WriteLine(\"First 3 numbers:\");\n",
    "foreach (var n in first3Numbers)\n",
    "{\n",
    "    Console.WriteLine(n);\n",
    "}"
   ]
  },
  {
   "attachments": {},
   "cell_type": "markdown",
   "metadata": {},
   "source": [
    "## Nested Take partitions\n",
    "\n",
    "This sample uses `Take` to get the first 3 orders from customers in Washington."
   ]
  },
  {
   "cell_type": "code",
   "execution_count": null,
   "metadata": {
    "dotnet_interactive": {
     "language": "csharp"
    },
    "polyglot_notebook": {
     "kernelName": "csharp"
    },
    "vscode": {
     "languageId": "polyglot-notebook"
    }
   },
   "outputs": [],
   "source": [
    "List<Customer> customers = GetCustomerList();\n",
    "\n",
    "var first3WAOrders = (\n",
    "    from cust in customers\n",
    "    from order in cust.Orders\n",
    "    where cust.Region == \"WA\"\n",
    "    select (cust.CustomerID, order.OrderID, order.OrderDate))\n",
    "    .Take(3);\n",
    "\n",
    "Console.WriteLine(\"First 3 orders in WA:\");\n",
    "foreach (var order in first3WAOrders)\n",
    "{\n",
    "    Console.WriteLine(order);\n",
    "}"
   ]
  },
  {
   "attachments": {},
   "cell_type": "markdown",
   "metadata": {},
   "source": [
    "## Skip elements\n",
    "\n",
    "This sample uses `Skip` to get all but the first 4 elements of the array."
   ]
  },
  {
   "cell_type": "code",
   "execution_count": null,
   "metadata": {
    "dotnet_interactive": {
     "language": "csharp"
    },
    "polyglot_notebook": {
     "kernelName": "csharp"
    },
    "vscode": {
     "languageId": "polyglot-notebook"
    }
   },
   "outputs": [],
   "source": [
    "int[] numbers = { 5, 4, 1, 3, 9, 8, 6, 7, 2, 0 };\n",
    "\n",
    "var allButFirst4Numbers = numbers.Skip(4);\n",
    "\n",
    "Console.WriteLine(\"All but first 4 numbers:\");\n",
    "foreach (var n in allButFirst4Numbers)\n",
    "{\n",
    "    Console.WriteLine(n);\n",
    "}"
   ]
  },
  {
   "attachments": {},
   "cell_type": "markdown",
   "metadata": {},
   "source": [
    "## Nested skip partitions\n",
    "\n",
    "This sample uses `Skip` to get all but the first 2 orders from customers in Washington."
   ]
  },
  {
   "cell_type": "code",
   "execution_count": null,
   "metadata": {
    "dotnet_interactive": {
     "language": "csharp"
    },
    "polyglot_notebook": {
     "kernelName": "csharp"
    },
    "vscode": {
     "languageId": "polyglot-notebook"
    }
   },
   "outputs": [],
   "source": [
    "List<Customer> customers = GetCustomerList();\n",
    "\n",
    "var waOrders = from cust in customers\n",
    "               from order in cust.Orders\n",
    "               where cust.Region == \"WA\"\n",
    "               select (cust.CustomerID, order.OrderID, order.OrderDate);\n",
    "\n",
    "var allButFirst2Orders = waOrders.Skip(2);\n",
    "\n",
    "Console.WriteLine(\"All but first 2 orders in WA:\");\n",
    "foreach (var order in allButFirst2Orders)\n",
    "{\n",
    "    Console.WriteLine(order);\n",
    "}"
   ]
  },
  {
   "attachments": {},
   "cell_type": "markdown",
   "metadata": {},
   "source": [
    "**Next: [Partitions with conditions  &raquo;](./partitions-2.ipynb) Previous: [Restrictions with indexes and conditions &laquo;](./projections-5.ipynb)**\n",
    "\n",
    "**[Home](../index.ipynb)**"
   ]
  }
 ],
 "metadata": {
  "language_info": {
   "name": "csharp"
  },
  "orig_nbformat": 4
 },
 "nbformat": 4,
 "nbformat_minor": 2
}
