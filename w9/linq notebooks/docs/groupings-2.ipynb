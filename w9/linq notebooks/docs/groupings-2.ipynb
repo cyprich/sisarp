{
 "cells": [
  {
   "attachments": {},
   "cell_type": "markdown",
   "metadata": {},
   "source": [
    "# LINQ - Grouping Operators with custom comparer\n",
    "\n",
    "The `group by` and `into` can use custom comparers to separate groups.\n",
    "\n",
    "These samples use the following custom comparer. It compares two strings to see if they are anagrams. (Anagrams are pairs of words formed from the same letters.)"
   ]
  },
  {
   "cell_type": "code",
   "execution_count": null,
   "metadata": {
    "dotnet_interactive": {
     "language": "csharp"
    },
    "polyglot_notebook": {
     "kernelName": "csharp"
    },
    "vscode": {
     "languageId": "polyglot-notebook"
    }
   },
   "outputs": [],
   "source": [
    "public class AnagramEqualityComparer : IEqualityComparer<string>\n",
    "{\n",
    "    public bool Equals(string x, string y) => GetCanonicalString(x) == GetCanonicalString(y);\n",
    "\n",
    "    public int GetHashCode(string obj) => GetCanonicalString(obj).GetHashCode();\n",
    "\n",
    "    private string GetCanonicalString(string word)\n",
    "    {\n",
    "        char[] wordChars = word.ToCharArray();\n",
    "        Array.Sort<char>(wordChars);\n",
    "        return new string(wordChars);\n",
    "    }\n",
    "}"
   ]
  },
  {
   "attachments": {},
   "cell_type": "markdown",
   "metadata": {},
   "source": [
    "## Groupby with a custom comparer"
   ]
  },
  {
   "cell_type": "code",
   "execution_count": null,
   "metadata": {
    "dotnet_interactive": {
     "language": "csharp"
    },
    "polyglot_notebook": {
     "kernelName": "csharp"
    },
    "vscode": {
     "languageId": "polyglot-notebook"
    }
   },
   "outputs": [],
   "source": [
    "string[] anagrams = { \"from   \", \" salt\", \" earn \", \"  last   \", \" near \", \" form  \" };\n",
    "\n",
    "var orderGroups = anagrams.GroupBy(w => w.Trim(), new AnagramEqualityComparer());\n",
    "\n",
    "foreach (var set in orderGroups)\n",
    "{\n",
    "    // The key would be the first item in the set\n",
    "    foreach (var word in set)\n",
    "    {\n",
    "        Console.WriteLine(word);\n",
    "    }\n",
    "    Console.WriteLine(\"...\");\n",
    "}"
   ]
  },
  {
   "attachments": {},
   "cell_type": "markdown",
   "metadata": {},
   "source": [
    "**Next: [Nested groupings with a custom comparer &raquo;](./groupings-3.ipynb) Previous: [Groupings &laquo;](./groupings.ipynb)**\n",
    "\n",
    "**[Home](../index.ipynb)**\n"
   ]
  }
 ],
 "metadata": {
  "language_info": {
   "name": "csharp"
  },
  "orig_nbformat": 4
 },
 "nbformat": 4,
 "nbformat_minor": 2
}
