{
 "cells": [
  {
   "attachments": {},
   "cell_type": "markdown",
   "metadata": {},
   "source": [
    "# LINQ - Nested Grouping Operators with custom comparer\n",
    "\n",
    "The `group by` and `into` can use custom comparers to separate groups. These queries can be nested.\n",
    "\n",
    "These samples use the following custom comparer. It compares two strings to see if they are anagrams. (Anagrams are pairs of words formed from the same letters.)"
   ]
  },
  {
   "cell_type": "code",
   "execution_count": null,
   "metadata": {
    "dotnet_interactive": {
     "language": "csharp"
    },
    "polyglot_notebook": {
     "kernelName": "csharp"
    },
    "vscode": {
     "languageId": "polyglot-notebook"
    }
   },
   "outputs": [],
   "source": [
    "public class AnagramEqualityComparer : IEqualityComparer<string>\n",
    "{\n",
    "    public bool Equals(string x, string y) => GetCanonicalString(x) == GetCanonicalString(y);\n",
    "\n",
    "    public int GetHashCode(string obj) => GetCanonicalString(obj).GetHashCode();\n",
    "\n",
    "    private string GetCanonicalString(string word)\n",
    "    {\n",
    "        char[] wordChars = word.ToCharArray();\n",
    "        Array.Sort<char>(wordChars);\n",
    "        return new string(wordChars);\n",
    "    }\n",
    "}"
   ]
  },
  {
   "attachments": {},
   "cell_type": "markdown",
   "metadata": {},
   "source": [
    "## Groupby with a custom comparer"
   ]
  },
  {
   "cell_type": "code",
   "execution_count": null,
   "metadata": {
    "dotnet_interactive": {
     "language": "csharp"
    },
    "polyglot_notebook": {
     "kernelName": "csharp"
    },
    "vscode": {
     "languageId": "polyglot-notebook"
    }
   },
   "outputs": [],
   "source": [
    "string[] anagrams = { \"from   \", \" salt\", \" earn \", \"  last   \", \" near \", \" form  \" };\n",
    "\n",
    "var orderGroups = anagrams.GroupBy(\n",
    "            w => w.Trim(),\n",
    "            a => a.ToUpper(),\n",
    "            new AnagramEqualityComparer()\n",
    "            );\n",
    "foreach (var set in orderGroups)\n",
    "{\n",
    "    Console.WriteLine(set.Key);\n",
    "    foreach (var word in set)\n",
    "    {\n",
    "        Console.WriteLine($\"\\t{word}\");\n",
    "    }\n",
    "}"
   ]
  },
  {
   "attachments": {},
   "cell_type": "markdown",
   "metadata": {},
   "source": [
    "**Next: [Set operations &raquo;](./sets.ipynb) Previous: [Groupings with a custom comparer &laquo;](./orderings-2.ipynb)**\n",
    "\n",
    "**[Home](../index.ipynb)**"
   ]
  }
 ],
 "metadata": {
  "language_info": {
   "name": "csharp"
  },
  "orig_nbformat": 4
 },
 "nbformat": 4,
 "nbformat_minor": 2
}
