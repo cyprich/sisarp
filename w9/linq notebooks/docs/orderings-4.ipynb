{
 "cells": [
  {
   "attachments": {},
   "cell_type": "markdown",
   "metadata": {},
   "source": [
    "# Using a custom comparer\n",
    "\n",
    "The samples on this page use the following custom comparer:"
   ]
  },
  {
   "cell_type": "code",
   "execution_count": null,
   "metadata": {
    "dotnet_interactive": {
     "language": "csharp"
    },
    "polyglot_notebook": {
     "kernelName": "csharp"
    },
    "vscode": {
     "languageId": "polyglot-notebook"
    }
   },
   "outputs": [],
   "source": [
    "// Custom comparer for use with ordering operators\n",
    "public class CaseInsensitiveComparer : IComparer<string>\n",
    "{\n",
    "    public int Compare(string x, string y) =>\n",
    "        string.Compare(x, y, StringComparison.OrdinalIgnoreCase);\n",
    "}"
   ]
  },
  {
   "attachments": {},
   "cell_type": "markdown",
   "metadata": {},
   "source": [
    "## Ordering with a custom comparer\n",
    "\n",
    "This sample orders the customers using the custom comparer"
   ]
  },
  {
   "cell_type": "code",
   "execution_count": null,
   "metadata": {
    "dotnet_interactive": {
     "language": "csharp"
    },
    "polyglot_notebook": {
     "kernelName": "csharp"
    },
    "vscode": {
     "languageId": "polyglot-notebook"
    }
   },
   "outputs": [],
   "source": [
    "string[] words = { \"aPPLE\", \"AbAcUs\", \"bRaNcH\", \"BlUeBeRrY\", \"ClOvEr\", \"cHeRry\" };\n",
    "\n",
    "var sortedWords = words.OrderBy(a => a, new CaseInsensitiveComparer());\n",
    "\n",
    "foreach (var word in sortedWords)\n",
    "{\n",
    "    Console.WriteLine(word);\n",
    "}"
   ]
  },
  {
   "attachments": {},
   "cell_type": "markdown",
   "metadata": {},
   "source": [
    "## Descending orders with a custom comparer\n",
    "\n",
    "This sample uses an `OrderBy` clause with a custom comparer to do a case-insensitive descending sort of the words in an array."
   ]
  },
  {
   "cell_type": "code",
   "execution_count": null,
   "metadata": {
    "dotnet_interactive": {
     "language": "csharp"
    },
    "polyglot_notebook": {
     "kernelName": "csharp"
    },
    "vscode": {
     "languageId": "polyglot-notebook"
    }
   },
   "outputs": [],
   "source": [
    "string[] words = { \"aPPLE\", \"AbAcUs\", \"bRaNcH\", \"BlUeBeRrY\", \"ClOvEr\", \"cHeRry\" };\n",
    "\n",
    "var sortedWords = words.OrderByDescending(a => a, new CaseInsensitiveComparer());\n",
    "\n",
    "foreach (var word in sortedWords)\n",
    "{\n",
    "    Console.WriteLine(word);\n",
    "}"
   ]
  },
  {
   "attachments": {},
   "cell_type": "markdown",
   "metadata": {},
   "source": [
    "**Next: [Nested custom comparisons &raquo;](./orderings-5.ipynb) Previous: [Orderby thenby &laquo;](./orderings-3.ipynb)**\n",
    "\n",
    "**[Home](../index.ipynb)**"
   ]
  }
 ],
 "metadata": {
  "language_info": {
   "name": "csharp"
  },
  "orig_nbformat": 4
 },
 "nbformat": 4,
 "nbformat_minor": 2
}
