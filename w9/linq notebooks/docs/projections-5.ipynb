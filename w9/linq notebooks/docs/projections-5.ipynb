{
 "cells": [
  {
   "attachments": {},
   "cell_type": "markdown",
   "metadata": {},
   "source": [
    "# LINQ - Projection Operators\n",
    "\n",
    "The `select` clause of a LINQ query *projects* the output sequence. It transforms each input element into the shape of the output sequence."
   ]
  },
  {
   "attachments": {},
   "cell_type": "markdown",
   "metadata": {},
   "source": [
    "### Prerequisites"
   ]
  },
  {
   "cell_type": "code",
   "execution_count": null,
   "metadata": {
    "dotnet_interactive": {
     "language": "csharp"
    },
    "polyglot_notebook": {
     "kernelName": "csharp"
    },
    "vscode": {
     "languageId": "polyglot-notebook"
    }
   },
   "outputs": [],
   "source": [
    "using System.IO;\n",
    "using System.Xml.Linq;\n",
    "\n",
    "public static class InputValues\n",
    "{       \n",
    "    private static string customersXml;\n",
    "    public static string CustomersXml = customersXml ??= File.ReadAllText(\"_customers.xml\");\n",
    "}\n",
    "\n",
    "public class Customer\n",
    "{\n",
    "    public string CustomerID { get; set; }\n",
    "    public string CompanyName { get; set; }\n",
    "    public string Address { get; set; }\n",
    "    public string City { get; set; }\n",
    "    public string Region { get; set; }\n",
    "    public string PostalCode { get; set; }\n",
    "    public string Country { get; set; }\n",
    "    public string Phone { get; set; }\n",
    "    public Order[] Orders { get; set; }\n",
    "    public override string ToString() => \n",
    "        $\"{CustomerID} {CompanyName}\\n{Address}\\n{City}, {Region} {PostalCode} {Country}\\n{Phone}\";\n",
    "}\n",
    "\n",
    "public class Order\n",
    "{\n",
    "    public int OrderID { get; set; }\n",
    "    public DateTime OrderDate { get; set; }\n",
    "    public decimal Total { get; set; }\n",
    "    public override string ToString() => $\"{OrderID}: {OrderDate:d} for {Total:C2}\";\n",
    "}\n",
    "\n",
    "public static class Customers\n",
    "{\n",
    "    public static List<Customer> CustomerList { get; } =\n",
    "        (from e in XDocument.Parse(InputValues.CustomersXml).Root.Elements(\"customer\")\n",
    "            select new Customer\n",
    "            {\n",
    "                CustomerID = (string)e.Element(\"id\"),\n",
    "                CompanyName = (string)e.Element(\"name\"),\n",
    "                Address = (string)e.Element(\"address\"),\n",
    "                City = (string)e.Element(\"city\"),\n",
    "                Region = (string)e.Element(\"region\"),\n",
    "                PostalCode = (string)e.Element(\"postalcode\"),\n",
    "                Country = (string)e.Element(\"country\"),\n",
    "                Phone = (string)e.Element(\"phone\"),\n",
    "                Orders = (\n",
    "                from o in e.Elements(\"orders\").Elements(\"order\")\n",
    "                select new Order\n",
    "                {\n",
    "                    OrderID = (int)o.Element(\"id\"),\n",
    "                    OrderDate = (DateTime)o.Element(\"orderdate\"),\n",
    "                    Total = (decimal)o.Element(\"total\")\n",
    "                }).ToArray()\n",
    "            }).ToList();\n",
    "}\n",
    "\n",
    "List<Customer> GetCustomerList() => Customers.CustomerList;"
   ]
  },
  {
   "attachments": {},
   "cell_type": "markdown",
   "metadata": {},
   "source": [
    "## Compound select with where and assignment\n",
    "\n",
    "This sample uses a compound `from` clause to select all orders where the order total is greater than 2000.00 and uses `from` assignment to avoid requesting the total twice."
   ]
  },
  {
   "cell_type": "code",
   "execution_count": null,
   "metadata": {
    "dotnet_interactive": {
     "language": "csharp"
    },
    "polyglot_notebook": {
     "kernelName": "csharp"
    },
    "vscode": {
     "languageId": "polyglot-notebook"
    }
   },
   "outputs": [],
   "source": [
    "List<Customer> customers = GetCustomerList();\n",
    "\n",
    "var orders = from c in customers\n",
    "             from o in c.Orders\n",
    "             where o.Total >= 2000.0M\n",
    "             select (c.CustomerID, o.OrderID, o.Total);\n",
    "\n",
    "foreach (var order in orders)\n",
    "{\n",
    "    Console.WriteLine($\"Customer: {order.CustomerID}, Order: {order.OrderID}, Total value: {order.Total}\");\n",
    "}"
   ]
  },
  {
   "attachments": {},
   "cell_type": "markdown",
   "metadata": {},
   "source": [
    "## Compound select with multiple where clauses\n",
    "\n",
    "This sample uses multiple `from` clauses so that filtering on customers can be done before selecting their orders. This makes the query more efficient by not selecting and then discarding orders for customers outside of Washington."
   ]
  },
  {
   "cell_type": "code",
   "execution_count": null,
   "metadata": {
    "dotnet_interactive": {
     "language": "csharp"
    },
    "polyglot_notebook": {
     "kernelName": "csharp"
    },
    "vscode": {
     "languageId": "polyglot-notebook"
    }
   },
   "outputs": [],
   "source": [
    "List<Customer> customers = GetCustomerList();\n",
    "\n",
    "DateTime cutoffDate = new DateTime(1997, 1, 1);\n",
    "\n",
    "var orders = from c in customers\n",
    "             where c.Region == \"WA\"\n",
    "             from o in c.Orders\n",
    "             where o.OrderDate >= cutoffDate\n",
    "             select (c.CustomerID, o.OrderID);\n",
    "\n",
    "foreach (var order in orders)\n",
    "{\n",
    "    Console.WriteLine($\"Customer: {order.CustomerID}, Order: {order.OrderID}\");\n",
    "}"
   ]
  },
  {
   "attachments": {},
   "cell_type": "markdown",
   "metadata": {},
   "source": [
    "## Compound select with index\n",
    "\n",
    "This sample uses an indexed `SelectMany` clause to select all orders, while referring to customers by the order in which they are returned from the query."
   ]
  },
  {
   "cell_type": "code",
   "execution_count": null,
   "metadata": {
    "dotnet_interactive": {
     "language": "csharp"
    },
    "polyglot_notebook": {
     "kernelName": "csharp"
    },
    "vscode": {
     "languageId": "polyglot-notebook"
    }
   },
   "outputs": [],
   "source": [
    "List<Customer> customers = GetCustomerList();\n",
    "\n",
    "var customerOrders =\n",
    "    customers.SelectMany(\n",
    "        (cust, custIndex) =>\n",
    "        cust.Orders.Select(o => \"Customer #\" + (custIndex + 1) +\n",
    "                                \" has an order with OrderID \" + o.OrderID));\n",
    "\n",
    "foreach (var order in customerOrders)\n",
    "{\n",
    "    Console.WriteLine(order);\n",
    "}"
   ]
  },
  {
   "attachments": {},
   "cell_type": "markdown",
   "metadata": {},
   "source": [
    "**Next: [Partition operators  &raquo;](./partitions.ipynb) Previous: [Restrictions from multiple inputs &laquo;](./projections-4.ipynb)**\n",
    "\n",
    "**[Home](../index.ipynb)**"
   ]
  }
 ],
 "metadata": {
  "language_info": {
   "name": "csharp"
  },
  "orig_nbformat": 4
 },
 "nbformat": 4,
 "nbformat_minor": 2
}
