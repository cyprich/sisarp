{
 "cells": [
  {
   "attachments": {},
   "cell_type": "markdown",
   "metadata": {},
   "source": [
    "# LINQ - Set Operators\n",
    "\n",
    "The methods `Distinct`, `Union`, `Intersect`, and `Except` provide set operations to compare multiple sequences."
   ]
  },
  {
   "attachments": {},
   "cell_type": "markdown",
   "metadata": {},
   "source": [
    "### Prerequisites"
   ]
  },
  {
   "cell_type": "code",
   "execution_count": null,
   "metadata": {
    "dotnet_interactive": {
     "language": "csharp"
    },
    "polyglot_notebook": {
     "kernelName": "csharp"
    },
    "vscode": {
     "languageId": "polyglot-notebook"
    }
   },
   "outputs": [],
   "source": [
    "public class Product\n",
    "{\n",
    "    public int ProductID { get; set; }\n",
    "    public string ProductName { get; set; }\n",
    "    public string Category { get; set; }\n",
    "    public decimal UnitPrice { get; set; }\n",
    "    public int UnitsInStock { get; set; }\n",
    "    public override string ToString() => \n",
    "        $\"ProductID={ProductID} ProductName={ProductName} Category={Category} UnitPrice={UnitPrice:C2} UnitsInStock={UnitsInStock}\";\n",
    "}\n",
    "\n",
    "public static class Products\n",
    "{\n",
    "    public static List<Product> ProductList { get;  } = new List<Product> \n",
    "    {\n",
    "        new Product { ProductID = 1, ProductName = \"Chai\", Category = \"Beverages\", UnitPrice = 18.0000M, UnitsInStock = 39 },\n",
    "        new Product { ProductID = 2, ProductName = \"Chang\", Category = \"Beverages\", UnitPrice = 19.0000M, UnitsInStock = 17 },\n",
    "        new Product { ProductID = 3, ProductName = \"Aniseed Syrup\", Category = \"Condiments\", UnitPrice = 10.0000M, UnitsInStock = 13 },\n",
    "        new Product { ProductID = 4, ProductName = \"Chef Anton's Cajun Seasoning\", Category = \"Condiments\", UnitPrice = 22.0000M, UnitsInStock = 53 },\n",
    "        new Product { ProductID = 5, ProductName = \"Chef Anton's Gumbo Mix\", Category = \"Condiments\", UnitPrice = 21.3500M, UnitsInStock = 0 },\n",
    "        new Product { ProductID = 6, ProductName = \"Grandma's Boysenberry Spread\", Category = \"Condiments\", UnitPrice = 25.0000M, UnitsInStock = 120 },\n",
    "        new Product { ProductID = 7, ProductName = \"Uncle Bob's Organic Dried Pears\", Category = \"Produce\", UnitPrice = 30.0000M, UnitsInStock = 15 },\n",
    "        new Product { ProductID = 8, ProductName = \"Northwoods Cranberry Sauce\", Category = \"Condiments\", UnitPrice = 40.0000M, UnitsInStock = 6 },\n",
    "        new Product { ProductID = 9, ProductName = \"Mishi Kobe Niku\", Category = \"Meat/Poultry\", UnitPrice = 97.0000M, UnitsInStock = 29 },\n",
    "        new Product { ProductID = 10, ProductName = \"Ikura\", Category = \"Seafood\", UnitPrice = 31.0000M, UnitsInStock = 31 },\n",
    "        new Product { ProductID = 11, ProductName = \"Queso Cabrales\", Category = \"Dairy Products\", UnitPrice = 21.0000M, UnitsInStock = 22 },\n",
    "        new Product { ProductID = 12, ProductName = \"Queso Manchego La Pastora\", Category = \"Dairy Products\", UnitPrice = 38.0000M, UnitsInStock = 86 },\n",
    "        new Product { ProductID = 13, ProductName = \"Konbu\", Category = \"Seafood\", UnitPrice = 6.0000M, UnitsInStock = 24 },\n",
    "        new Product { ProductID = 14, ProductName = \"Tofu\", Category = \"Produce\", UnitPrice = 23.2500M, UnitsInStock = 35 },\n",
    "        new Product { ProductID = 15, ProductName = \"Genen Shouyu\", Category = \"Condiments\", UnitPrice = 15.5000M, UnitsInStock = 39 },\n",
    "        new Product { ProductID = 16, ProductName = \"Pavlova\", Category = \"Confections\", UnitPrice = 17.4500M, UnitsInStock = 29 },\n",
    "        new Product { ProductID = 17, ProductName = \"Alice Mutton\", Category = \"Meat/Poultry\", UnitPrice = 39.0000M, UnitsInStock = 0 },\n",
    "        new Product { ProductID = 18, ProductName = \"Carnarvon Tigers\", Category = \"Seafood\", UnitPrice = 62.5000M, UnitsInStock = 42 },\n",
    "        new Product { ProductID = 19, ProductName = \"Teatime Chocolate Biscuits\", Category = \"Confections\", UnitPrice = 9.2000M, UnitsInStock = 25 },\n",
    "        new Product { ProductID = 20, ProductName = \"Sir Rodney's Marmalade\", Category = \"Confections\", UnitPrice = 81.0000M, UnitsInStock = 40 },\n",
    "        new Product { ProductID = 21, ProductName = \"Sir Rodney's Scones\", Category = \"Confections\", UnitPrice = 10.0000M, UnitsInStock = 3 },\n",
    "        new Product { ProductID = 22, ProductName = \"Gustaf's Knäckebröd\", Category = \"Grains/Cereals\", UnitPrice = 21.0000M, UnitsInStock = 104 },\n",
    "        new Product { ProductID = 23, ProductName = \"Tunnbröd\", Category = \"Grains/Cereals\", UnitPrice = 9.0000M, UnitsInStock = 61 },\n",
    "        new Product { ProductID = 24, ProductName = \"Guaraná Fantástica\", Category = \"Beverages\", UnitPrice = 4.5000M, UnitsInStock = 20 },\n",
    "        new Product { ProductID = 25, ProductName = \"NuNuCa Nuß-Nougat-Creme\", Category = \"Confections\", UnitPrice = 14.0000M, UnitsInStock = 76 },\n",
    "        new Product { ProductID = 26, ProductName = \"Gumbär Gummibärchen\", Category = \"Confections\", UnitPrice = 31.2300M, UnitsInStock = 15 },\n",
    "        new Product { ProductID = 27, ProductName = \"Schoggi Schokolade\", Category = \"Confections\", UnitPrice = 43.9000M, UnitsInStock = 49 },\n",
    "        new Product { ProductID = 28, ProductName = \"Rössle Sauerkraut\", Category = \"Produce\", UnitPrice = 45.6000M, UnitsInStock = 26 },\n",
    "        new Product { ProductID = 29, ProductName = \"Thüringer Rostbratwurst\", Category = \"Meat/Poultry\", UnitPrice = 123.7900M, UnitsInStock = 0 },\n",
    "        new Product { ProductID = 30, ProductName = \"Nord-Ost Matjeshering\", Category = \"Seafood\", UnitPrice = 25.8900M, UnitsInStock = 10 },\n",
    "        new Product { ProductID = 31, ProductName = \"Gorgonzola Telino\", Category = \"Dairy Products\", UnitPrice = 12.5000M, UnitsInStock = 0 },\n",
    "        new Product { ProductID = 32, ProductName = \"Mascarpone Fabioli\", Category = \"Dairy Products\", UnitPrice = 32.0000M, UnitsInStock = 9 },\n",
    "        new Product { ProductID = 33, ProductName = \"Geitost\", Category = \"Dairy Products\", UnitPrice = 2.5000M, UnitsInStock = 112 },\n",
    "        new Product { ProductID = 34, ProductName = \"Sasquatch Ale\", Category = \"Beverages\", UnitPrice = 14.0000M, UnitsInStock = 111 },\n",
    "        new Product { ProductID = 35, ProductName = \"Steeleye Stout\", Category = \"Beverages\", UnitPrice = 18.0000M, UnitsInStock = 20 },\n",
    "        new Product { ProductID = 36, ProductName = \"Inlagd Sill\", Category = \"Seafood\", UnitPrice = 19.0000M, UnitsInStock = 112 },\n",
    "        new Product { ProductID = 37, ProductName = \"Gravad lax\", Category = \"Seafood\", UnitPrice = 26.0000M, UnitsInStock = 11 },\n",
    "        new Product { ProductID = 38, ProductName = \"Côte de Blaye\", Category = \"Beverages\", UnitPrice = 263.5000M, UnitsInStock = 17 },\n",
    "        new Product { ProductID = 39, ProductName = \"Chartreuse verte\", Category = \"Beverages\", UnitPrice = 18.0000M, UnitsInStock = 69 },\n",
    "        new Product { ProductID = 40, ProductName = \"Boston Crab Meat\", Category = \"Seafood\", UnitPrice = 18.4000M, UnitsInStock = 123 },\n",
    "        new Product { ProductID = 41, ProductName = \"Jack's New England Clam Chowder\", Category = \"Seafood\", UnitPrice = 9.6500M, UnitsInStock = 85 },\n",
    "        new Product { ProductID = 42, ProductName = \"Singaporean Hokkien Fried Mee\", Category = \"Grains/Cereals\", UnitPrice = 14.0000M, UnitsInStock = 26 },\n",
    "        new Product { ProductID = 43, ProductName = \"Ipoh Coffee\", Category = \"Beverages\", UnitPrice = 46.0000M, UnitsInStock = 17 },\n",
    "        new Product { ProductID = 44, ProductName = \"Gula Malacca\", Category = \"Condiments\", UnitPrice = 19.4500M, UnitsInStock = 27 },\n",
    "        new Product { ProductID = 45, ProductName = \"Rogede sild\", Category = \"Seafood\", UnitPrice = 9.5000M, UnitsInStock = 5 },\n",
    "        new Product { ProductID = 46, ProductName = \"Spegesild\", Category = \"Seafood\", UnitPrice = 12.0000M, UnitsInStock = 95 },\n",
    "        new Product { ProductID = 47, ProductName = \"Zaanse koeken\", Category = \"Confections\", UnitPrice = 9.5000M, UnitsInStock = 36 },\n",
    "        new Product { ProductID = 48, ProductName = \"Chocolade\", Category = \"Confections\", UnitPrice = 12.7500M, UnitsInStock = 15 },\n",
    "        new Product { ProductID = 49, ProductName = \"Maxilaku\", Category = \"Confections\", UnitPrice = 20.0000M, UnitsInStock = 10 },\n",
    "        new Product { ProductID = 50, ProductName = \"Valkoinen suklaa\", Category = \"Confections\", UnitPrice = 16.2500M, UnitsInStock = 65 },\n",
    "        new Product { ProductID = 51, ProductName = \"Manjimup Dried Apples\", Category = \"Produce\", UnitPrice = 53.0000M, UnitsInStock = 20 },\n",
    "        new Product { ProductID = 52, ProductName = \"Filo Mix\", Category = \"Grains/Cereals\", UnitPrice = 7.0000M, UnitsInStock = 38 },\n",
    "        new Product { ProductID = 53, ProductName = \"Perth Pasties\", Category = \"Meat/Poultry\", UnitPrice = 32.8000M, UnitsInStock = 0 },\n",
    "        new Product { ProductID = 54, ProductName = \"Tourtière\", Category = \"Meat/Poultry\", UnitPrice = 7.4500M, UnitsInStock = 21 },\n",
    "        new Product { ProductID = 55, ProductName = \"Pâté chinois\", Category = \"Meat/Poultry\", UnitPrice = 24.0000M, UnitsInStock = 115 },\n",
    "        new Product { ProductID = 56, ProductName = \"Gnocchi di nonna Alice\", Category = \"Grains/Cereals\", UnitPrice = 38.0000M, UnitsInStock = 21 },\n",
    "        new Product { ProductID = 57, ProductName = \"Ravioli Angelo\", Category = \"Grains/Cereals\", UnitPrice = 19.5000M, UnitsInStock = 36 },\n",
    "        new Product { ProductID = 58, ProductName = \"Escargots de Bourgogne\", Category = \"Seafood\", UnitPrice = 13.2500M, UnitsInStock = 62 },\n",
    "        new Product { ProductID = 59, ProductName = \"Raclette Courdavault\", Category = \"Dairy Products\", UnitPrice = 55.0000M, UnitsInStock = 79 },\n",
    "        new Product { ProductID = 60, ProductName = \"Camembert Pierrot\", Category = \"Dairy Products\", UnitPrice = 34.0000M, UnitsInStock = 19 },\n",
    "        new Product { ProductID = 61, ProductName = \"Sirop d'érable\", Category = \"Condiments\", UnitPrice = 28.5000M, UnitsInStock = 113 },\n",
    "        new Product { ProductID = 62, ProductName = \"Tarte au sucre\", Category = \"Confections\", UnitPrice = 49.3000M, UnitsInStock = 17 },\n",
    "        new Product { ProductID = 63, ProductName = \"Vegie-spread\", Category = \"Condiments\", UnitPrice = 43.9000M, UnitsInStock = 24 },\n",
    "        new Product { ProductID = 64, ProductName = \"Wimmers gute Semmelknödel\", Category = \"Grains/Cereals\", UnitPrice = 33.2500M, UnitsInStock = 22 },\n",
    "        new Product { ProductID = 65, ProductName = \"Louisiana Fiery Hot Pepper Sauce\", Category = \"Condiments\", UnitPrice = 21.0500M, UnitsInStock = 76 },\n",
    "        new Product { ProductID = 66, ProductName = \"Louisiana Hot Spiced Okra\", Category = \"Condiments\", UnitPrice = 17.0000M, UnitsInStock = 4 },\n",
    "        new Product { ProductID = 67, ProductName = \"Laughing Lumberjack Lager\", Category = \"Beverages\", UnitPrice = 14.0000M, UnitsInStock = 52 },\n",
    "        new Product { ProductID = 68, ProductName = \"Scottish Longbreads\", Category = \"Confections\", UnitPrice = 12.5000M, UnitsInStock = 6 },\n",
    "        new Product { ProductID = 69, ProductName = \"Gudbrandsdalsost\", Category = \"Dairy Products\", UnitPrice = 36.0000M, UnitsInStock = 26 },\n",
    "        new Product { ProductID = 70, ProductName = \"Outback Lager\", Category = \"Beverages\", UnitPrice = 15.0000M, UnitsInStock = 15 },\n",
    "        new Product { ProductID = 71, ProductName = \"Flotemysost\", Category = \"Dairy Products\", UnitPrice = 21.5000M, UnitsInStock = 26 },\n",
    "        new Product { ProductID = 72, ProductName = \"Mozzarella di Giovanni\", Category = \"Dairy Products\", UnitPrice = 34.8000M, UnitsInStock = 14 },\n",
    "        new Product { ProductID = 73, ProductName = \"Röd Kaviar\", Category = \"Seafood\", UnitPrice = 15.0000M, UnitsInStock = 101 },\n",
    "        new Product { ProductID = 74, ProductName = \"Longlife Tofu\", Category = \"Produce\", UnitPrice = 10.0000M, UnitsInStock = 4 },\n",
    "        new Product { ProductID = 75, ProductName = \"Rhönbräu Klosterbier\", Category = \"Beverages\", UnitPrice = 7.7500M, UnitsInStock = 125 },\n",
    "        new Product { ProductID = 76, ProductName = \"Lakkalikööri\", Category = \"Beverages\", UnitPrice = 18.0000M, UnitsInStock = 57 },\n",
    "        new Product { ProductID = 77, ProductName = \"Original Frankfurter grüne Soße\", Category = \"Condiments\", UnitPrice = 13.0000M, UnitsInStock = 32 }\n",
    "    };\n",
    "}\n",
    "\n",
    "List<Product> GetProductList() => Products.ProductList;"
   ]
  },
  {
   "cell_type": "code",
   "execution_count": null,
   "metadata": {
    "dotnet_interactive": {
     "language": "csharp"
    },
    "polyglot_notebook": {
     "kernelName": "csharp"
    },
    "vscode": {
     "languageId": "polyglot-notebook"
    }
   },
   "outputs": [],
   "source": [
    "using System.IO;\n",
    "using System.Xml.Linq;\n",
    "\n",
    "public static class InputValues\n",
    "{       \n",
    "    private static string customersXml;\n",
    "    public static string CustomersXml = customersXml ??= File.ReadAllText(\"_customers.xml\");\n",
    "}\n",
    "\n",
    "public class Customer\n",
    "{\n",
    "    public string CustomerID { get; set; }\n",
    "    public string CompanyName { get; set; }\n",
    "    public string Address { get; set; }\n",
    "    public string City { get; set; }\n",
    "    public string Region { get; set; }\n",
    "    public string PostalCode { get; set; }\n",
    "    public string Country { get; set; }\n",
    "    public string Phone { get; set; }\n",
    "    public Order[] Orders { get; set; }\n",
    "    public override string ToString() => \n",
    "        $\"{CustomerID} {CompanyName}\\n{Address}\\n{City}, {Region} {PostalCode} {Country}\\n{Phone}\";\n",
    "}\n",
    "\n",
    "public class Order\n",
    "{\n",
    "    public int OrderID { get; set; }\n",
    "    public DateTime OrderDate { get; set; }\n",
    "    public decimal Total { get; set; }\n",
    "    public override string ToString() => $\"{OrderID}: {OrderDate:d} for {Total:C2}\";\n",
    "}\n",
    "\n",
    "public static class Customers\n",
    "{\n",
    "    public static List<Customer> CustomerList { get; } =\n",
    "        (from e in XDocument.Parse(InputValues.CustomersXml).Root.Elements(\"customer\")\n",
    "            select new Customer\n",
    "            {\n",
    "                CustomerID = (string)e.Element(\"id\"),\n",
    "                CompanyName = (string)e.Element(\"name\"),\n",
    "                Address = (string)e.Element(\"address\"),\n",
    "                City = (string)e.Element(\"city\"),\n",
    "                Region = (string)e.Element(\"region\"),\n",
    "                PostalCode = (string)e.Element(\"postalcode\"),\n",
    "                Country = (string)e.Element(\"country\"),\n",
    "                Phone = (string)e.Element(\"phone\"),\n",
    "                Orders = (\n",
    "                from o in e.Elements(\"orders\").Elements(\"order\")\n",
    "                select new Order\n",
    "                {\n",
    "                    OrderID = (int)o.Element(\"id\"),\n",
    "                    OrderDate = (DateTime)o.Element(\"orderdate\"),\n",
    "                    Total = (decimal)o.Element(\"total\")\n",
    "                }).ToArray()\n",
    "            }).ToList();\n",
    "}\n",
    "\n",
    "List<Customer> GetCustomerList() => Customers.CustomerList;"
   ]
  },
  {
   "attachments": {},
   "cell_type": "markdown",
   "metadata": {},
   "source": [
    "## Find the intersection of two sets\n",
    "\n",
    "This sample uses `Intersect` to create one sequence that contains the common values shared by both arrays."
   ]
  },
  {
   "cell_type": "code",
   "execution_count": null,
   "metadata": {
    "dotnet_interactive": {
     "language": "csharp"
    },
    "polyglot_notebook": {
     "kernelName": "csharp"
    },
    "vscode": {
     "languageId": "polyglot-notebook"
    }
   },
   "outputs": [],
   "source": [
    "int[] numbersA = { 0, 2, 4, 5, 6, 8, 9 };\n",
    "int[] numbersB = { 1, 3, 5, 7, 8 };\n",
    "\n",
    "var commonNumbers = numbersA.Intersect(numbersB);\n",
    "\n",
    "Console.WriteLine(\"Common numbers shared by both arrays:\");\n",
    "foreach (var n in commonNumbers)\n",
    "{\n",
    "    Console.WriteLine(n);\n",
    "}"
   ]
  },
  {
   "attachments": {},
   "cell_type": "markdown",
   "metadata": {},
   "source": [
    "## Find the intersection of query results\n",
    "\n",
    "This sample uses `Intersect` to create one sequence that contains the common first letter from both product and customer names."
   ]
  },
  {
   "cell_type": "code",
   "execution_count": null,
   "metadata": {
    "dotnet_interactive": {
     "language": "csharp"
    },
    "polyglot_notebook": {
     "kernelName": "csharp"
    },
    "vscode": {
     "languageId": "polyglot-notebook"
    }
   },
   "outputs": [],
   "source": [
    "List<Product> products = GetProductList();\n",
    "List<Customer> customers = GetCustomerList();\n",
    "\n",
    "var productFirstChars = from p in products\n",
    "                        select p.ProductName[0];\n",
    "var customerFirstChars = from c in customers\n",
    "                         select c.CompanyName[0];\n",
    "\n",
    "var commonFirstChars = productFirstChars.Intersect(customerFirstChars);\n",
    "\n",
    "Console.WriteLine(\"Common first letters from Product names and Customer names:\");\n",
    "foreach (var ch in commonFirstChars)\n",
    "{\n",
    "    Console.WriteLine(ch);\n",
    "}"
   ]
  },
  {
   "attachments": {},
   "cell_type": "markdown",
   "metadata": {},
   "source": [
    "## Difference of two sets\n",
    "\n",
    "This sample uses `Except` to create a sequence that contains the values from `numbersA` that are not also in `numbersB`."
   ]
  },
  {
   "cell_type": "code",
   "execution_count": null,
   "metadata": {
    "dotnet_interactive": {
     "language": "csharp"
    },
    "polyglot_notebook": {
     "kernelName": "csharp"
    },
    "vscode": {
     "languageId": "polyglot-notebook"
    }
   },
   "outputs": [],
   "source": [
    "int[] numbersA = { 0, 2, 4, 5, 6, 8, 9 };\n",
    "int[] numbersB = { 1, 3, 5, 7, 8 };\n",
    "\n",
    "IEnumerable<int> aOnlyNumbers = numbersA.Except(numbersB);\n",
    "\n",
    "Console.WriteLine(\"Numbers in first array but not second array:\");\n",
    "foreach (var n in aOnlyNumbers)\n",
    "{\n",
    "    Console.WriteLine(n);\n",
    "}"
   ]
  },
  {
   "attachments": {},
   "cell_type": "markdown",
   "metadata": {},
   "source": [
    "## Difference of two queries\n",
    "\n",
    "This sample uses `Except` to create one sequence that contains the first letters of product names that are not also first letters of customer names."
   ]
  },
  {
   "cell_type": "code",
   "execution_count": null,
   "metadata": {
    "dotnet_interactive": {
     "language": "csharp"
    },
    "polyglot_notebook": {
     "kernelName": "csharp"
    },
    "vscode": {
     "languageId": "polyglot-notebook"
    }
   },
   "outputs": [],
   "source": [
    "List<Product> products = GetProductList();\n",
    "List<Customer> customers = GetCustomerList();\n",
    "\n",
    "var productFirstChars = from p in products\n",
    "                        select p.ProductName[0];\n",
    "var customerFirstChars = from c in customers\n",
    "                         select c.CompanyName[0];\n",
    "\n",
    "var productOnlyFirstChars = productFirstChars.Except(customerFirstChars);\n",
    "\n",
    "Console.WriteLine(\"First letters from Product names, but not from Customer names:\");\n",
    "foreach (var ch in productOnlyFirstChars)\n",
    "{\n",
    "    Console.WriteLine(ch);\n",
    "}"
   ]
  },
  {
   "attachments": {},
   "cell_type": "markdown",
   "metadata": {},
   "source": [
    "**Next: [Conversion operators &raquo;](./conversions.ipynb) Previous: [Set operations distinct and union &laquo;](./sets.ipynb)**\n",
    "\n",
    "**[Home](../index.ipynb)**"
   ]
  }
 ],
 "metadata": {
  "language_info": {
   "name": "csharp"
  },
  "orig_nbformat": 4
 },
 "nbformat": 4,
 "nbformat_minor": 2
}
