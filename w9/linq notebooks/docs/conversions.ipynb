{
 "cells": [
  {
   "attachments": {},
   "cell_type": "markdown",
   "metadata": {},
   "source": [
    "# LINQ - Conversion Operators\n",
    "\n",
    "The methods `ToArray`, `ToList`, `ToDictionary`, and `OfType` provide ways to convert LINQ results to collections."
   ]
  },
  {
   "attachments": {},
   "cell_type": "markdown",
   "metadata": {},
   "source": [
    "## Convert to an array\n",
    "\n",
    "This sample uses `ToArray` to immediately evaluate a sequence into an array."
   ]
  },
  {
   "cell_type": "code",
   "execution_count": null,
   "metadata": {
    "dotnet_interactive": {
     "language": "csharp"
    },
    "polyglot_notebook": {
     "kernelName": "csharp"
    },
    "vscode": {
     "languageId": "polyglot-notebook"
    }
   },
   "outputs": [],
   "source": [
    "double[] doubles = { 1.7, 2.3, 1.9, 4.1, 2.9 };\n",
    "\n",
    "var sortedDoubles = from d in doubles\n",
    "                    orderby d descending\n",
    "                    select d;\n",
    "var doublesArray = sortedDoubles.ToArray();\n",
    "\n",
    "Console.WriteLine(\"Every other double from highest to lowest:\");\n",
    "for (int d = 0; d < doublesArray.Length; d += 2)\n",
    "{\n",
    "    Console.WriteLine(doublesArray[d]);\n",
    "}"
   ]
  },
  {
   "attachments": {},
   "cell_type": "markdown",
   "metadata": {},
   "source": [
    "## Convert to a list\n",
    "\n",
    "This sample uses `ToList` to immediately evaluate a sequence into a `List<T>`."
   ]
  },
  {
   "cell_type": "code",
   "execution_count": null,
   "metadata": {
    "dotnet_interactive": {
     "language": "csharp"
    },
    "polyglot_notebook": {
     "kernelName": "csharp"
    },
    "vscode": {
     "languageId": "polyglot-notebook"
    }
   },
   "outputs": [],
   "source": [
    "string[] words = { \"cherry\", \"apple\", \"blueberry\" };\n",
    "\n",
    "var sortedWords = from w in words\n",
    "                  orderby w\n",
    "                  select w;\n",
    "var wordList = sortedWords.ToList();\n",
    "\n",
    "Console.WriteLine(\"The sorted word list:\");\n",
    "foreach (var w in wordList)\n",
    "{\n",
    "    Console.WriteLine(w);\n",
    "}"
   ]
  },
  {
   "attachments": {},
   "cell_type": "markdown",
   "metadata": {},
   "source": [
    "## Convert to a dictionary\n",
    "\n",
    "This sample uses `ToDictionary` to immediately evaluate a sequence and a related key expression into a dictionary."
   ]
  },
  {
   "cell_type": "code",
   "execution_count": null,
   "metadata": {
    "dotnet_interactive": {
     "language": "csharp"
    },
    "polyglot_notebook": {
     "kernelName": "csharp"
    },
    "vscode": {
     "languageId": "polyglot-notebook"
    }
   },
   "outputs": [],
   "source": [
    "var scoreRecords = new[] { new {Name = \"Alice\", Score = 50},\n",
    "                                new {Name = \"Bob\"  , Score = 40},\n",
    "                                new {Name = \"Cathy\", Score = 45}\n",
    "                            };\n",
    "\n",
    "var scoreRecordsDict = scoreRecords.ToDictionary(sr => sr.Name);\n",
    "\n",
    "Console.WriteLine(\"Bob's score: {0}\", scoreRecordsDict[\"Bob\"]);"
   ]
  },
  {
   "attachments": {},
   "cell_type": "markdown",
   "metadata": {},
   "source": [
    "## Convert elements that match a type\n",
    "\n",
    "This sample uses `OfType` to return only the elements of the array that are of type `double`."
   ]
  },
  {
   "cell_type": "code",
   "execution_count": null,
   "metadata": {
    "dotnet_interactive": {
     "language": "csharp"
    },
    "polyglot_notebook": {
     "kernelName": "csharp"
    },
    "vscode": {
     "languageId": "polyglot-notebook"
    }
   },
   "outputs": [],
   "source": [
    "object[] numbers = { null, 1.0, \"two\", 3, \"four\", 5, \"six\", 7.0 };\n",
    "\n",
    "var doubles = numbers.OfType<double>();\n",
    "\n",
    "Console.WriteLine(\"Numbers stored as doubles:\");\n",
    "foreach (var d in doubles)\n",
    "{\n",
    "    Console.WriteLine(d);\n",
    "}"
   ]
  },
  {
   "attachments": {},
   "cell_type": "markdown",
   "metadata": {},
   "source": [
    "**Next: [Element operations &raquo;](./elements.ipynb) Previous:  [Intersect and except set operations &raquo;](./sets-2.ipynb)**\n",
    "\n",
    "**[Home](../index.ipynb)**\n"
   ]
  }
 ],
 "metadata": {
  "language_info": {
   "name": "csharp"
  },
  "orig_nbformat": 4
 },
 "nbformat": 4,
 "nbformat_minor": 2
}
